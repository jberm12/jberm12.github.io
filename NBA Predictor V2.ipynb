{
 "cells": [
  {
   "cell_type": "markdown",
   "id": "0f2419db-c753-4143-8505-69875cb153c2",
   "metadata": {},
   "source": [
    "<h1>Predicting NBA Games: An Analysis of Different Models and Sportbooks</h1>\n",
    "<h2>By: Sam Kushnir and Jonah Berman</h2>"
   ]
  },
  {
   "cell_type": "markdown",
   "id": "3e93b0bb-78fd-4c73-b153-6e0e0e3b003f",
   "metadata": {},
   "source": [
    "<h2>Introduction</h2>"
   ]
  },
  {
   "cell_type": "markdown",
   "id": "ef056480-dfa9-41e6-81e2-1e1bab613019",
   "metadata": {},
   "source": [
    "As avid NBA fans, we are constantly looking towards future NBA games and asking a very simply question: Who will win? My accuracy in answering this question, to be honest, is a little embarrising. I have an inconsistent, biased model in my brain that takes into account my friends' opinions, the media, betting odds, and so many more unconsious factors that I don't even know I'm considering. But maybe there is a better way. Maybe there is a way to take a defined list of inputs, and some function, and output a much more accurate prediction which answers this simple question. \n",
    "\n",
    "Going one step further, it would be cool to also predict by how many points a team will win or lose by. In sports betting terms, this is often referred to as the spread. But these two questions are really it. All we are interested in for our model outputs are two questions: who will win and by how much?\n",
    "\n",
    "My goal for this project is two-fold:\n",
    "1. To explore a sea of possible models, and gain insight into making the most accurate model that I can to answer these two questions. \n",
    "2. Explore public bias, and on what subsets of games there is public bias which makes our models better than what the public thinks. This is really the motivation piece of it. The ability is gain an edge in predicting the future over the public and find out where the public is wrong is extremely valuable.\n",
    "\n",
    "If you are interested in these questions, there are, luckily, many other people who have researched this topic and have produced great insight into it. On the top of that list in none other than Nate Silver and the folks at 538, who produce great insight into NBA stats and predictions. Here are a few of their articles I found really interesting:\n",
    "1. https://projects.fivethirtyeight.com/complete-history-of-the-nba/#bucks\n",
    "2. https://fivethirtyeight.com/features/how-the-warriors-are-wrecking-the-rest-of-the-nba-and-our-forecast-model/\n",
    "\n",
    "As well their prediction engine: https://projects.fivethirtyeight.com/2022-nba-predictions/games/."
   ]
  },
  {
   "cell_type": "markdown",
   "id": "31b0113f-fea3-4970-b43e-3981c6a2fb00",
   "metadata": {},
   "source": [
    "<h2> Data Collection Process: Part 1</h2>"
   ]
  },
  {
   "cell_type": "markdown",
   "id": "32bbcb24-0844-43db-8afa-e1682dfa4e93",
   "metadata": {},
   "source": [
    "Below we will be the outline and code of the first part of our data collection process. Later, we will have a second portion of data collection and processing to look at sportsbook data and incorperate new models which need different kinds of data which we will get to later."
   ]
  },
  {
   "cell_type": "markdown",
   "id": "ce093c0c-ffe2-4053-b115-4c2a30053c23",
   "metadata": {},
   "source": [
    "The dataset I was looking for at this point in the project was game by game data. I wanted each row to represent a unique game and I wanted a collection of different statistics about each game. I first went on Kaggle to search for data and found the following dataset: https://www.kaggle.com/datasets/nathanlauga/nba-games. The creator of this dataset convienently combined a number of different datasets into one large dataset and posted it on github: https://github.com/Nathanlauga/nba-data-scrapping/blob/master/notebooks/games_formated_07_20.csv."
   ]
  },
  {
   "cell_type": "markdown",
   "id": "99337e99-1639-46fe-90ff-0a882067b698",
   "metadata": {},
   "source": [
    "But first, just some generic imports:"
   ]
  },
  {
   "cell_type": "code",
   "execution_count": 1,
   "id": "af5be607-b95f-4640-a5b5-90401e96f3f4",
   "metadata": {},
   "outputs": [],
   "source": [
    "# imports\n",
    "import pandas as pd\n",
    "import seaborn as sns\n",
    "import matplotlib.pyplot as plt\n",
    "import numpy as np\n",
    "from sklearn import linear_model as lm\n",
    "import statsmodels.api as sm\n",
    "from sklearn.tree import DecisionTreeClassifier\n",
    "from sklearn.neighbors import KNeighborsClassifier\n",
    "from sklearn.neighbors import KNeighborsRegressor\n",
    "import sklearn.model_selection as ms\n",
    "import sklearn.metrics as met\n",
    "from sklearn.ensemble import RandomForestClassifier\n",
    "import statistics\n",
    "import scipy.stats as st\n",
    "from collections import defaultdict\n",
    "import math\n",
    "from datetime import datetime as dt"
   ]
  },
  {
   "cell_type": "code",
   "execution_count": 2,
   "id": "2a7a88ac-51d2-4d36-a719-a1093e98c6ac",
   "metadata": {},
   "outputs": [],
   "source": [
    "# Reading in the CSV File:\n",
    "gameData = pd.read_csv(\"./data/games_formated_07_20.csv\")"
   ]
  },
  {
   "cell_type": "code",
   "execution_count": 3,
   "id": "ed792553-52b6-4a2e-aa7b-82edc2b153fa",
   "metadata": {},
   "outputs": [
    {
     "data": {
      "text/html": [
       "<div>\n",
       "<style scoped>\n",
       "    .dataframe tbody tr th:only-of-type {\n",
       "        vertical-align: middle;\n",
       "    }\n",
       "\n",
       "    .dataframe tbody tr th {\n",
       "        vertical-align: top;\n",
       "    }\n",
       "\n",
       "    .dataframe thead th {\n",
       "        text-align: right;\n",
       "    }\n",
       "</style>\n",
       "<table border=\"1\" class=\"dataframe\">\n",
       "  <thead>\n",
       "    <tr style=\"text-align: right;\">\n",
       "      <th></th>\n",
       "      <th>GAME_ID</th>\n",
       "      <th>G_home</th>\n",
       "      <th>W_PCT_home</th>\n",
       "      <th>HOME_RECORD_home</th>\n",
       "      <th>ROAD_RECORD_home</th>\n",
       "      <th>W_PCT_prev_home</th>\n",
       "      <th>HOME_RECORD_prev_home</th>\n",
       "      <th>ROAD_RECORD_prev_home</th>\n",
       "      <th>G_away</th>\n",
       "      <th>W_PCT_away</th>\n",
       "      <th>...</th>\n",
       "      <th>REB_home_10g</th>\n",
       "      <th>WIN_PRCT_away_10g</th>\n",
       "      <th>PTS_away_10g</th>\n",
       "      <th>FG_PCT_away_10g</th>\n",
       "      <th>FT_PCT_away_10g</th>\n",
       "      <th>FG3_PCT_away_10g</th>\n",
       "      <th>AST_away_10g</th>\n",
       "      <th>REB_away_10g</th>\n",
       "      <th>SEASON</th>\n",
       "      <th>HOME_TEAM_WINS</th>\n",
       "    </tr>\n",
       "  </thead>\n",
       "  <tbody>\n",
       "    <tr>\n",
       "      <th>0</th>\n",
       "      <td>10700001</td>\n",
       "      <td>82</td>\n",
       "      <td>0.293</td>\n",
       "      <td>0.292683</td>\n",
       "      <td>0.292683</td>\n",
       "      <td>0.402</td>\n",
       "      <td>0.512195</td>\n",
       "      <td>0.292683</td>\n",
       "      <td>82</td>\n",
       "      <td>0.573</td>\n",
       "      <td>...</td>\n",
       "      <td>37.5</td>\n",
       "      <td>0.4</td>\n",
       "      <td>94.2</td>\n",
       "      <td>0.4471</td>\n",
       "      <td>0.7917</td>\n",
       "      <td>0.3460</td>\n",
       "      <td>19.3</td>\n",
       "      <td>38.4</td>\n",
       "      <td>2007</td>\n",
       "      <td>1</td>\n",
       "    </tr>\n",
       "    <tr>\n",
       "      <th>1</th>\n",
       "      <td>10700005</td>\n",
       "      <td>82</td>\n",
       "      <td>0.488</td>\n",
       "      <td>0.609756</td>\n",
       "      <td>0.365854</td>\n",
       "      <td>0.439</td>\n",
       "      <td>0.634146</td>\n",
       "      <td>0.243902</td>\n",
       "      <td>82</td>\n",
       "      <td>0.366</td>\n",
       "      <td>...</td>\n",
       "      <td>41.7</td>\n",
       "      <td>0.3</td>\n",
       "      <td>96.8</td>\n",
       "      <td>0.4723</td>\n",
       "      <td>0.7376</td>\n",
       "      <td>0.2604</td>\n",
       "      <td>21.3</td>\n",
       "      <td>42.1</td>\n",
       "      <td>2007</td>\n",
       "      <td>0</td>\n",
       "    </tr>\n",
       "    <tr>\n",
       "      <th>2</th>\n",
       "      <td>10700006</td>\n",
       "      <td>82</td>\n",
       "      <td>0.646</td>\n",
       "      <td>0.634146</td>\n",
       "      <td>0.658537</td>\n",
       "      <td>0.780</td>\n",
       "      <td>0.902439</td>\n",
       "      <td>0.658537</td>\n",
       "      <td>82</td>\n",
       "      <td>0.537</td>\n",
       "      <td>...</td>\n",
       "      <td>39.1</td>\n",
       "      <td>0.2</td>\n",
       "      <td>88.2</td>\n",
       "      <td>0.4612</td>\n",
       "      <td>0.6901</td>\n",
       "      <td>0.3780</td>\n",
       "      <td>18.1</td>\n",
       "      <td>35.0</td>\n",
       "      <td>2007</td>\n",
       "      <td>1</td>\n",
       "    </tr>\n",
       "    <tr>\n",
       "      <th>3</th>\n",
       "      <td>10700007</td>\n",
       "      <td>82</td>\n",
       "      <td>0.610</td>\n",
       "      <td>0.731707</td>\n",
       "      <td>0.487805</td>\n",
       "      <td>0.610</td>\n",
       "      <td>0.756098</td>\n",
       "      <td>0.463415</td>\n",
       "      <td>82</td>\n",
       "      <td>0.500</td>\n",
       "      <td>...</td>\n",
       "      <td>41.2</td>\n",
       "      <td>0.2</td>\n",
       "      <td>89.3</td>\n",
       "      <td>0.4112</td>\n",
       "      <td>0.6934</td>\n",
       "      <td>0.3144</td>\n",
       "      <td>18.4</td>\n",
       "      <td>38.5</td>\n",
       "      <td>2007</td>\n",
       "      <td>0</td>\n",
       "    </tr>\n",
       "    <tr>\n",
       "      <th>4</th>\n",
       "      <td>10700008</td>\n",
       "      <td>82</td>\n",
       "      <td>0.341</td>\n",
       "      <td>0.439024</td>\n",
       "      <td>0.243902</td>\n",
       "      <td>0.488</td>\n",
       "      <td>0.609756</td>\n",
       "      <td>0.365854</td>\n",
       "      <td>82</td>\n",
       "      <td>0.598</td>\n",
       "      <td>...</td>\n",
       "      <td>36.7</td>\n",
       "      <td>0.6</td>\n",
       "      <td>92.4</td>\n",
       "      <td>0.4300</td>\n",
       "      <td>0.7320</td>\n",
       "      <td>0.3553</td>\n",
       "      <td>20.6</td>\n",
       "      <td>41.9</td>\n",
       "      <td>2007</td>\n",
       "      <td>1</td>\n",
       "    </tr>\n",
       "  </tbody>\n",
       "</table>\n",
       "<p>5 rows × 45 columns</p>\n",
       "</div>"
      ],
      "text/plain": [
       "    GAME_ID  G_home  W_PCT_home  HOME_RECORD_home  ROAD_RECORD_home  \\\n",
       "0  10700001      82       0.293          0.292683          0.292683   \n",
       "1  10700005      82       0.488          0.609756          0.365854   \n",
       "2  10700006      82       0.646          0.634146          0.658537   \n",
       "3  10700007      82       0.610          0.731707          0.487805   \n",
       "4  10700008      82       0.341          0.439024          0.243902   \n",
       "\n",
       "   W_PCT_prev_home  HOME_RECORD_prev_home  ROAD_RECORD_prev_home  G_away  \\\n",
       "0            0.402               0.512195               0.292683      82   \n",
       "1            0.439               0.634146               0.243902      82   \n",
       "2            0.780               0.902439               0.658537      82   \n",
       "3            0.610               0.756098               0.463415      82   \n",
       "4            0.488               0.609756               0.365854      82   \n",
       "\n",
       "   W_PCT_away  ...  REB_home_10g  WIN_PRCT_away_10g  PTS_away_10g  \\\n",
       "0       0.573  ...          37.5                0.4          94.2   \n",
       "1       0.366  ...          41.7                0.3          96.8   \n",
       "2       0.537  ...          39.1                0.2          88.2   \n",
       "3       0.500  ...          41.2                0.2          89.3   \n",
       "4       0.598  ...          36.7                0.6          92.4   \n",
       "\n",
       "   FG_PCT_away_10g  FT_PCT_away_10g  FG3_PCT_away_10g  AST_away_10g  \\\n",
       "0           0.4471           0.7917            0.3460          19.3   \n",
       "1           0.4723           0.7376            0.2604          21.3   \n",
       "2           0.4612           0.6901            0.3780          18.1   \n",
       "3           0.4112           0.6934            0.3144          18.4   \n",
       "4           0.4300           0.7320            0.3553          20.6   \n",
       "\n",
       "   REB_away_10g  SEASON  HOME_TEAM_WINS  \n",
       "0          38.4    2007               1  \n",
       "1          42.1    2007               0  \n",
       "2          35.0    2007               1  \n",
       "3          38.5    2007               0  \n",
       "4          41.9    2007               1  \n",
       "\n",
       "[5 rows x 45 columns]"
      ]
     },
     "execution_count": 3,
     "metadata": {},
     "output_type": "execute_result"
    }
   ],
   "source": [
    "# Displaying the data:\n",
    "gameData.head()"
   ]
  },
  {
   "cell_type": "code",
   "execution_count": 4,
   "id": "c009e365-5ba4-49a5-bbc5-c8c8dc53ec1f",
   "metadata": {
    "scrolled": false
   },
   "outputs": [
    {
     "data": {
      "text/plain": [
       "Index(['GAME_ID', 'G_home', 'W_PCT_home', 'HOME_RECORD_home',\n",
       "       'ROAD_RECORD_home', 'W_PCT_prev_home', 'HOME_RECORD_prev_home',\n",
       "       'ROAD_RECORD_prev_home', 'G_away', 'W_PCT_away', 'HOME_RECORD_away',\n",
       "       'ROAD_RECORD_away', 'W_PCT_prev_away', 'HOME_RECORD_prev_away',\n",
       "       'ROAD_RECORD_prev_away', 'WIN_PRCT_home_3g', 'PTS_home_3g',\n",
       "       'FG_PCT_home_3g', 'FT_PCT_home_3g', 'FG3_PCT_home_3g', 'AST_home_3g',\n",
       "       'REB_home_3g', 'WIN_PRCT_away_3g', 'PTS_away_3g', 'FG_PCT_away_3g',\n",
       "       'FT_PCT_away_3g', 'FG3_PCT_away_3g', 'AST_away_3g', 'REB_away_3g',\n",
       "       'WIN_PRCT_home_10g', 'PTS_home_10g', 'FG_PCT_home_10g',\n",
       "       'FT_PCT_home_10g', 'FG3_PCT_home_10g', 'AST_home_10g', 'REB_home_10g',\n",
       "       'WIN_PRCT_away_10g', 'PTS_away_10g', 'FG_PCT_away_10g',\n",
       "       'FT_PCT_away_10g', 'FG3_PCT_away_10g', 'AST_away_10g', 'REB_away_10g',\n",
       "       'SEASON', 'HOME_TEAM_WINS'],\n",
       "      dtype='object')"
      ]
     },
     "execution_count": 4,
     "metadata": {},
     "output_type": "execute_result"
    }
   ],
   "source": [
    "gameData.columns"
   ]
  },
  {
   "cell_type": "markdown",
   "id": "1daf2e31-13b7-4117-af45-1bde3821ea33",
   "metadata": {},
   "source": [
    "As you can see, the data I have here is precisely what I was looking for, with each row corresponding to a unique game. Now, let's dive into some of the important columns. GAME_ID is simply a way to uniquely identity every game. W_PCT_home is the win percentage of the home team up until this game for the current season. HOME_RECORD_home and ROAD_RECORD_home are the home team's win percentage at home and away, respectively for the current season. Then, the way that this dataset distinguishes between the home team and the away team is simply having the same names but replacing home with away, so for example the column for the away win percentage is the column named \"W_PCT_away\". There are a few more interesting columns that I want to point out. One interesting one is the FG3_PCT_home_3g vs. the FG3_PCT_away_3g columns. This column represents the 3 point percentage from the team's last 3 games. Additionally, there are equivelent columns that take into account the last 10 games. These columns will be good for determining if a certain team is currently on a \"hot streak\" or potentially a \"cold streak.\" The last important column that I want to point out is the HOME_TEAM_WINS column. This column will act as our labeling for our data as that is what we want to predict right now. "
   ]
  },
  {
   "cell_type": "markdown",
   "id": "liked-cabinet",
   "metadata": {},
   "source": [
    "<h2>The First Step: Using Off-the-Shelf Classifier and Regression Models to Predict NBA Games</h2><br>\n",
    "The main attribute gameData is missing is the actual score of the game. While it does track the winner of the game in the column HOME_TEAM_WINS, in order to make a regression on the score differential of the game, we need more data. We get this data from score.csv, which includes team performance stats for both the home and away teams, the same GAME_ID specified in games_formated_07_20.csv, and, most importantly, the score of the game. We will utilize this dataset to obtain data on the score differential of individual games and create a regression model that attempts to predict this outcome."
   ]
  },
  {
   "cell_type": "code",
   "execution_count": 5,
   "id": "robust-sweet",
   "metadata": {
    "scrolled": true
   },
   "outputs": [
    {
     "data": {
      "text/plain": [
       "Index(['GAME_DATE_EST', 'GAME_ID', 'GAME_STATUS_TEXT', 'HOME_TEAM_ID',\n",
       "       'VISITOR_TEAM_ID', 'SEASON', 'TEAM_ID_home', 'PTS_home', 'FG_PCT_home',\n",
       "       'FT_PCT_home', 'FG3_PCT_home', 'AST_home', 'REB_home', 'TEAM_ID_away',\n",
       "       'PTS_away', 'FG_PCT_away', 'FT_PCT_away', 'FG3_PCT_away', 'AST_away',\n",
       "       'REB_away', 'HOME_TEAM_WINS'],\n",
       "      dtype='object')"
      ]
     },
     "execution_count": 5,
     "metadata": {},
     "output_type": "execute_result"
    }
   ],
   "source": [
    "# reading the csv files and displaying \n",
    "score = pd.read_csv('./data/games.csv')\n",
    "score.columns"
   ]
  },
  {
   "cell_type": "code",
   "execution_count": 6,
   "id": "suburban-darwin",
   "metadata": {
    "scrolled": false
   },
   "outputs": [
    {
     "data": {
      "text/html": [
       "<div>\n",
       "<style scoped>\n",
       "    .dataframe tbody tr th:only-of-type {\n",
       "        vertical-align: middle;\n",
       "    }\n",
       "\n",
       "    .dataframe tbody tr th {\n",
       "        vertical-align: top;\n",
       "    }\n",
       "\n",
       "    .dataframe thead th {\n",
       "        text-align: right;\n",
       "    }\n",
       "</style>\n",
       "<table border=\"1\" class=\"dataframe\">\n",
       "  <thead>\n",
       "    <tr style=\"text-align: right;\">\n",
       "      <th></th>\n",
       "      <th>GAME_ID</th>\n",
       "      <th>GAME_DATE_EST</th>\n",
       "      <th>TEAM_ID_home</th>\n",
       "      <th>TEAM_ID_away</th>\n",
       "      <th>W_PCT_home</th>\n",
       "      <th>W_PCT_away</th>\n",
       "      <th>HOME_TEAM_WINS</th>\n",
       "      <th>SCORE_DIFF</th>\n",
       "    </tr>\n",
       "  </thead>\n",
       "  <tbody>\n",
       "    <tr>\n",
       "      <th>12127</th>\n",
       "      <td>21600041</td>\n",
       "      <td>2016-10-30</td>\n",
       "      <td>1610612745</td>\n",
       "      <td>1610612742</td>\n",
       "      <td>0.500</td>\n",
       "      <td>0.512</td>\n",
       "      <td>1</td>\n",
       "      <td>1.0</td>\n",
       "    </tr>\n",
       "    <tr>\n",
       "      <th>14805</th>\n",
       "      <td>21800259</td>\n",
       "      <td>2018-11-21</td>\n",
       "      <td>1610612749</td>\n",
       "      <td>1610612757</td>\n",
       "      <td>0.750</td>\n",
       "      <td>0.706</td>\n",
       "      <td>1</td>\n",
       "      <td>43.0</td>\n",
       "    </tr>\n",
       "    <tr>\n",
       "      <th>13467</th>\n",
       "      <td>21700151</td>\n",
       "      <td>2017-11-07</td>\n",
       "      <td>1610612764</td>\n",
       "      <td>1610612742</td>\n",
       "      <td>0.598</td>\n",
       "      <td>0.091</td>\n",
       "      <td>0</td>\n",
       "      <td>-14.0</td>\n",
       "    </tr>\n",
       "    <tr>\n",
       "      <th>15815</th>\n",
       "      <td>21900039</td>\n",
       "      <td>2019-10-27</td>\n",
       "      <td>1610612750</td>\n",
       "      <td>1610612748</td>\n",
       "      <td>0.439</td>\n",
       "      <td>0.476</td>\n",
       "      <td>1</td>\n",
       "      <td>7.0</td>\n",
       "    </tr>\n",
       "    <tr>\n",
       "      <th>9263</th>\n",
       "      <td>21300867</td>\n",
       "      <td>2014-02-28</td>\n",
       "      <td>1610612739</td>\n",
       "      <td>1610612762</td>\n",
       "      <td>0.390</td>\n",
       "      <td>0.368</td>\n",
       "      <td>1</td>\n",
       "      <td>20.0</td>\n",
       "    </tr>\n",
       "  </tbody>\n",
       "</table>\n",
       "</div>"
      ],
      "text/plain": [
       "        GAME_ID GAME_DATE_EST  TEAM_ID_home  TEAM_ID_away  W_PCT_home  \\\n",
       "12127  21600041    2016-10-30    1610612745    1610612742       0.500   \n",
       "14805  21800259    2018-11-21    1610612749    1610612757       0.750   \n",
       "13467  21700151    2017-11-07    1610612764    1610612742       0.598   \n",
       "15815  21900039    2019-10-27    1610612750    1610612748       0.439   \n",
       "9263   21300867    2014-02-28    1610612739    1610612762       0.390   \n",
       "\n",
       "       W_PCT_away  HOME_TEAM_WINS  SCORE_DIFF  \n",
       "12127       0.512               1         1.0  \n",
       "14805       0.706               1        43.0  \n",
       "13467       0.091               0       -14.0  \n",
       "15815       0.476               1         7.0  \n",
       "9263        0.368               1        20.0  "
      ]
     },
     "execution_count": 6,
     "metadata": {},
     "output_type": "execute_result"
    }
   ],
   "source": [
    "# make a column for score differential = home_team_points - away_team_points\n",
    "score['SCORE_DIFF'] = score['PTS_home']-score['PTS_away']\n",
    "# merging the new score differential column into the gameData dataset by the unique gameID\n",
    "gameData = gameData.merge(score[['GAME_ID', 'SCORE_DIFF','GAME_DATE_EST', 'TEAM_ID_home',\n",
    "                                 'TEAM_ID_away']], on = 'GAME_ID', how = 'left')\n",
    "gameData[['GAME_ID','GAME_DATE_EST', 'TEAM_ID_home','TEAM_ID_away','W_PCT_home',\n",
    "          'W_PCT_away','HOME_TEAM_WINS','SCORE_DIFF']].sample(5)"
   ]
  },
  {
   "cell_type": "code",
   "execution_count": 7,
   "id": "final-encoding",
   "metadata": {},
   "outputs": [
    {
     "data": {
      "image/png": "[encoded data removed]",
      "text/plain": [
       "<Figure size 1080x288 with 1 Axes>"
      ]
     },
     "metadata": {
      "needs_background": "light"
     },
     "output_type": "display_data"
    }
   ],
   "source": [
    "seasons = gameData['SEASON'].unique()\n",
    "score_diff_per_year = [gameData[gameData.SEASON == y]['SCORE_DIFF'] for y in seasons]\n",
    "fig, ax = plt.subplots()\n",
    "ax.violinplot(score_diff_per_year,seasons\n",
    "              ,widths=1,showmeans=True)\n",
    "ax.set_xlabel('Season')\n",
    "ax.set_ylabel('Score Differential')\n",
    "ax.set_title('Score Differentials per NBA Season')\n",
    "fig.set_figwidth(15)\n",
    "plt.show()\n"
   ]
  },
  {
   "cell_type": "markdown",
   "id": "irish-workshop",
   "metadata": {},
   "source": [
    "As you can see above, not only do we have who won the game, but also by how much. Score differential is expressed in the perspective of the home team, meaning that whenever HOME_TEAM_WINS == 1, SCORE_DIFF > 0 and whenever HOME_TEAM_WINS == 0, SCORE_DIFF < 0.<br><br>\n",
    "The next thing we realized by looking at some of the dates of the games is that some of the games listed are preseason games. Although it may be interesting to analyze the difference between preseason and regular season games, for the purpose of projecting scores for games, looking at games that do not matter to the team may bias the data. Sometimes rosters are not complete, star players do not play a lot of minutes, and a lot of other variables that do not need to be considered in regular season games. Therefore, using the ELO data (you will see later), which only has regular season and playoff games, we will merge out all the preseason games. The only downside is the ELO data only has games up to the 2015 season, so we would be losing 5 seasons worth of data********. <br><br>\n",
    "Even though the two datasets GAME_IDs do not match up, there is another way to accomplish this goal. Since a team can only play one game a day, a unique identifier can be a combination of date and home team. We will use the teams.csv dataset below to accomplish this goal."
   ]
  },
  {
   "cell_type": "code",
   "execution_count": 8,
   "id": "honey-upgrade",
   "metadata": {},
   "outputs": [],
   "source": [
    "# reading the csvs\n",
    "teams = pd.read_csv('./data/teams.csv')\n",
    "EloData = pd.read_csv(\"./data/nbaallelo.csv\")\n",
    "EloData = EloData[EloData[\"_iscopy\"]==0]"
   ]
  },
  {
   "cell_type": "code",
   "execution_count": 9,
   "id": "sitting-parallel",
   "metadata": {},
   "outputs": [
    {
     "data": {
      "text/plain": [
       "['76ers', 'Trail Blazers']"
      ]
     },
     "execution_count": 9,
     "metadata": {},
     "output_type": "execute_result"
    }
   ],
   "source": [
    "# checking to see if there are any discrepencies between the nicknames of teams \n",
    "# between the two datasets\n",
    "EloData_teams = EloData['fran_id'].unique()\n",
    "gameData_teams = teams['NICKNAME'].unique()\n",
    "elo_teams_in_gameData = [value for value in EloData_teams if value in gameData_teams]\n",
    "list(set(gameData_teams) - set(elo_teams_in_gameData))"
   ]
  },
  {
   "cell_type": "code",
   "execution_count": 10,
   "id": "square-occurrence",
   "metadata": {},
   "outputs": [
    {
     "data": {
      "text/plain": [
       "array(['Huskies', 'Stags', 'Falcons', 'Steamrollers', 'Bombers', 'Rebels',\n",
       "       'Ironmen', 'Celtics', 'Warriors', 'Knicks', 'Capitols',\n",
       "       'Baltimore', 'Jets', 'Pistons', 'Kings', 'Lakers', 'Hawks',\n",
       "       'Olympians', 'Waterloo', 'Packers', 'Redskins', 'Sixers', 'Denver',\n",
       "       'Wizards', 'Bulls', 'Squires', 'Rockets', 'Pacers', 'Nuggets',\n",
       "       'Spurs', 'Sounds', 'Thunder', 'Colonels', 'Floridians', 'Spirits',\n",
       "       'Nets', 'Condors', 'Stars', 'Bucks', 'Suns', 'Clippers',\n",
       "       'Trailblazers', 'Cavaliers', 'Sails', 'Jazz', 'Mavericks',\n",
       "       'Pelicans', 'Heat', 'Magic', 'Timberwolves', 'Raptors',\n",
       "       'Grizzlies', 'Hornets'], dtype=object)"
      ]
     },
     "execution_count": 10,
     "metadata": {},
     "output_type": "execute_result"
    }
   ],
   "source": [
    "# trying to find the alternative spelling for the team name\n",
    "EloData_teams"
   ]
  },
  {
   "cell_type": "code",
   "execution_count": 11,
   "id": "fewer-judge",
   "metadata": {},
   "outputs": [
    {
     "data": {
      "text/html": [
       "<div>\n",
       "<style scoped>\n",
       "    .dataframe tbody tr th:only-of-type {\n",
       "        vertical-align: middle;\n",
       "    }\n",
       "\n",
       "    .dataframe tbody tr th {\n",
       "        vertical-align: top;\n",
       "    }\n",
       "\n",
       "    .dataframe thead th {\n",
       "        text-align: right;\n",
       "    }\n",
       "</style>\n",
       "<table border=\"1\" class=\"dataframe\">\n",
       "  <thead>\n",
       "    <tr style=\"text-align: right;\">\n",
       "      <th></th>\n",
       "      <th>GAME_ID</th>\n",
       "      <th>G_home</th>\n",
       "      <th>W_PCT_home</th>\n",
       "      <th>HOME_RECORD_home</th>\n",
       "      <th>ROAD_RECORD_home</th>\n",
       "      <th>W_PCT_prev_home</th>\n",
       "      <th>HOME_RECORD_prev_home</th>\n",
       "      <th>ROAD_RECORD_prev_home</th>\n",
       "      <th>G_away</th>\n",
       "      <th>W_PCT_away</th>\n",
       "      <th>...</th>\n",
       "      <th>FG3_PCT_away_10g</th>\n",
       "      <th>AST_away_10g</th>\n",
       "      <th>REB_away_10g</th>\n",
       "      <th>SEASON</th>\n",
       "      <th>HOME_TEAM_WINS</th>\n",
       "      <th>SCORE_DIFF</th>\n",
       "      <th>GAME_DATE_EST</th>\n",
       "      <th>TEAM_ID_home</th>\n",
       "      <th>TEAM_ID_away</th>\n",
       "      <th>NICKNAME_home</th>\n",
       "    </tr>\n",
       "  </thead>\n",
       "  <tbody>\n",
       "    <tr>\n",
       "      <th>0</th>\n",
       "      <td>10700001</td>\n",
       "      <td>82</td>\n",
       "      <td>0.293</td>\n",
       "      <td>0.292683</td>\n",
       "      <td>0.292683</td>\n",
       "      <td>0.402</td>\n",
       "      <td>0.512195</td>\n",
       "      <td>0.292683</td>\n",
       "      <td>82</td>\n",
       "      <td>0.573</td>\n",
       "      <td>...</td>\n",
       "      <td>0.3460</td>\n",
       "      <td>19.3</td>\n",
       "      <td>38.4</td>\n",
       "      <td>2007</td>\n",
       "      <td>1</td>\n",
       "      <td>4.0</td>\n",
       "      <td>2007-10-06</td>\n",
       "      <td>1610612738</td>\n",
       "      <td>1610612761</td>\n",
       "      <td>Celtics</td>\n",
       "    </tr>\n",
       "    <tr>\n",
       "      <th>1</th>\n",
       "      <td>10700005</td>\n",
       "      <td>82</td>\n",
       "      <td>0.488</td>\n",
       "      <td>0.609756</td>\n",
       "      <td>0.365854</td>\n",
       "      <td>0.439</td>\n",
       "      <td>0.634146</td>\n",
       "      <td>0.243902</td>\n",
       "      <td>82</td>\n",
       "      <td>0.366</td>\n",
       "      <td>...</td>\n",
       "      <td>0.2604</td>\n",
       "      <td>21.3</td>\n",
       "      <td>42.1</td>\n",
       "      <td>2007</td>\n",
       "      <td>0</td>\n",
       "      <td>-1.0</td>\n",
       "      <td>2007-10-08</td>\n",
       "      <td>1610612753</td>\n",
       "      <td>1610612737</td>\n",
       "      <td>Magic</td>\n",
       "    </tr>\n",
       "    <tr>\n",
       "      <th>2</th>\n",
       "      <td>10700006</td>\n",
       "      <td>82</td>\n",
       "      <td>0.646</td>\n",
       "      <td>0.634146</td>\n",
       "      <td>0.658537</td>\n",
       "      <td>0.780</td>\n",
       "      <td>0.902439</td>\n",
       "      <td>0.658537</td>\n",
       "      <td>82</td>\n",
       "      <td>0.537</td>\n",
       "      <td>...</td>\n",
       "      <td>0.3780</td>\n",
       "      <td>18.1</td>\n",
       "      <td>35.0</td>\n",
       "      <td>2007</td>\n",
       "      <td>1</td>\n",
       "      <td>17.0</td>\n",
       "      <td>2007-10-08</td>\n",
       "      <td>1610612765</td>\n",
       "      <td>1610612748</td>\n",
       "      <td>Pistons</td>\n",
       "    </tr>\n",
       "    <tr>\n",
       "      <th>3</th>\n",
       "      <td>10700007</td>\n",
       "      <td>82</td>\n",
       "      <td>0.610</td>\n",
       "      <td>0.731707</td>\n",
       "      <td>0.487805</td>\n",
       "      <td>0.610</td>\n",
       "      <td>0.756098</td>\n",
       "      <td>0.463415</td>\n",
       "      <td>82</td>\n",
       "      <td>0.500</td>\n",
       "      <td>...</td>\n",
       "      <td>0.3144</td>\n",
       "      <td>18.4</td>\n",
       "      <td>38.5</td>\n",
       "      <td>2007</td>\n",
       "      <td>0</td>\n",
       "      <td>-19.0</td>\n",
       "      <td>2007-10-09</td>\n",
       "      <td>1610612739</td>\n",
       "      <td>1610612764</td>\n",
       "      <td>Cavaliers</td>\n",
       "    </tr>\n",
       "    <tr>\n",
       "      <th>4</th>\n",
       "      <td>10700008</td>\n",
       "      <td>82</td>\n",
       "      <td>0.341</td>\n",
       "      <td>0.439024</td>\n",
       "      <td>0.243902</td>\n",
       "      <td>0.488</td>\n",
       "      <td>0.609756</td>\n",
       "      <td>0.365854</td>\n",
       "      <td>82</td>\n",
       "      <td>0.598</td>\n",
       "      <td>...</td>\n",
       "      <td>0.3553</td>\n",
       "      <td>20.6</td>\n",
       "      <td>41.9</td>\n",
       "      <td>2007</td>\n",
       "      <td>1</td>\n",
       "      <td>5.0</td>\n",
       "      <td>2007-10-09</td>\n",
       "      <td>1610612749</td>\n",
       "      <td>1610612741</td>\n",
       "      <td>Bucks</td>\n",
       "    </tr>\n",
       "  </tbody>\n",
       "</table>\n",
       "<p>5 rows × 50 columns</p>\n",
       "</div>"
      ],
      "text/plain": [
       "    GAME_ID  G_home  W_PCT_home  HOME_RECORD_home  ROAD_RECORD_home  \\\n",
       "0  10700001      82       0.293          0.292683          0.292683   \n",
       "1  10700005      82       0.488          0.609756          0.365854   \n",
       "2  10700006      82       0.646          0.634146          0.658537   \n",
       "3  10700007      82       0.610          0.731707          0.487805   \n",
       "4  10700008      82       0.341          0.439024          0.243902   \n",
       "\n",
       "   W_PCT_prev_home  HOME_RECORD_prev_home  ROAD_RECORD_prev_home  G_away  \\\n",
       "0            0.402               0.512195               0.292683      82   \n",
       "1            0.439               0.634146               0.243902      82   \n",
       "2            0.780               0.902439               0.658537      82   \n",
       "3            0.610               0.756098               0.463415      82   \n",
       "4            0.488               0.609756               0.365854      82   \n",
       "\n",
       "   W_PCT_away  ...  FG3_PCT_away_10g  AST_away_10g  REB_away_10g  SEASON  \\\n",
       "0       0.573  ...            0.3460          19.3          38.4    2007   \n",
       "1       0.366  ...            0.2604          21.3          42.1    2007   \n",
       "2       0.537  ...            0.3780          18.1          35.0    2007   \n",
       "3       0.500  ...            0.3144          18.4          38.5    2007   \n",
       "4       0.598  ...            0.3553          20.6          41.9    2007   \n",
       "\n",
       "   HOME_TEAM_WINS  SCORE_DIFF  GAME_DATE_EST  TEAM_ID_home  TEAM_ID_away  \\\n",
       "0               1         4.0     2007-10-06    1610612738    1610612761   \n",
       "1               0        -1.0     2007-10-08    1610612753    1610612737   \n",
       "2               1        17.0     2007-10-08    1610612765    1610612748   \n",
       "3               0       -19.0     2007-10-09    1610612739    1610612764   \n",
       "4               1         5.0     2007-10-09    1610612749    1610612741   \n",
       "\n",
       "   NICKNAME_home  \n",
       "0        Celtics  \n",
       "1          Magic  \n",
       "2        Pistons  \n",
       "3      Cavaliers  \n",
       "4          Bucks  \n",
       "\n",
       "[5 rows x 50 columns]"
      ]
     },
     "execution_count": 11,
     "metadata": {},
     "output_type": "execute_result"
    }
   ],
   "source": [
    "# creating a dictionary matching TEAM_ID to the NICKNAME\n",
    "id_nickname_dict = {}\n",
    "for index, row in teams.iterrows():\n",
    "    id_nickname_dict[row['TEAM_ID']] = row['NICKNAME']\n",
    "# fixing the two discrepencies\n",
    "id_nickname_dict[1610612755] = 'Sixers'\n",
    "id_nickname_dict[1610612757] = 'Trailblazers'\n",
    "\n",
    "# creating a column that gives us the home team's nickname\n",
    "nicknames = []\n",
    "for index, row in gameData.iterrows():\n",
    "    nicknames.append(id_nickname_dict[row['TEAM_ID_home']])\n",
    "gameData['NICKNAME_home'] = nicknames\n",
    "gameData.head()"
   ]
  },
  {
   "cell_type": "code",
   "execution_count": 12,
   "id": "exceptional-rolling",
   "metadata": {
    "scrolled": true
   },
   "outputs": [
    {
     "data": {
      "text/html": [
       "<div>\n",
       "<style scoped>\n",
       "    .dataframe tbody tr th:only-of-type {\n",
       "        vertical-align: middle;\n",
       "    }\n",
       "\n",
       "    .dataframe tbody tr th {\n",
       "        vertical-align: top;\n",
       "    }\n",
       "\n",
       "    .dataframe thead th {\n",
       "        text-align: right;\n",
       "    }\n",
       "</style>\n",
       "<table border=\"1\" class=\"dataframe\">\n",
       "  <thead>\n",
       "    <tr style=\"text-align: right;\">\n",
       "      <th></th>\n",
       "      <th>GAME_ID</th>\n",
       "      <th>G_home</th>\n",
       "      <th>W_PCT_home</th>\n",
       "      <th>HOME_RECORD_home</th>\n",
       "      <th>ROAD_RECORD_home</th>\n",
       "      <th>W_PCT_prev_home</th>\n",
       "      <th>HOME_RECORD_prev_home</th>\n",
       "      <th>ROAD_RECORD_prev_home</th>\n",
       "      <th>G_away</th>\n",
       "      <th>W_PCT_away</th>\n",
       "      <th>...</th>\n",
       "      <th>HOME_TEAM_WINS</th>\n",
       "      <th>SCORE_DIFF</th>\n",
       "      <th>GAME_DATE_EST</th>\n",
       "      <th>TEAM_ID_home</th>\n",
       "      <th>TEAM_ID_away</th>\n",
       "      <th>NICKNAME_home</th>\n",
       "      <th>game_id</th>\n",
       "      <th>date_game</th>\n",
       "      <th>fran_id</th>\n",
       "      <th>year_id</th>\n",
       "    </tr>\n",
       "  </thead>\n",
       "  <tbody>\n",
       "    <tr>\n",
       "      <th>1117</th>\n",
       "      <td>11900013</td>\n",
       "      <td>82</td>\n",
       "      <td>0.500</td>\n",
       "      <td>0.634146</td>\n",
       "      <td>0.365854</td>\n",
       "      <td>0.476</td>\n",
       "      <td>0.609756</td>\n",
       "      <td>0.341463</td>\n",
       "      <td>82</td>\n",
       "      <td>0.512</td>\n",
       "      <td>...</td>\n",
       "      <td>0</td>\n",
       "      <td>-24.0</td>\n",
       "      <td>2019-10-07</td>\n",
       "      <td>1610612765</td>\n",
       "      <td>1610612753</td>\n",
       "      <td>Pistons</td>\n",
       "      <td>NaN</td>\n",
       "      <td>NaT</td>\n",
       "      <td>NaN</td>\n",
       "      <td>NaN</td>\n",
       "    </tr>\n",
       "    <tr>\n",
       "      <th>3255</th>\n",
       "      <td>20800768</td>\n",
       "      <td>50</td>\n",
       "      <td>0.340</td>\n",
       "      <td>0.333333</td>\n",
       "      <td>0.346154</td>\n",
       "      <td>0.268</td>\n",
       "      <td>0.365854</td>\n",
       "      <td>0.170732</td>\n",
       "      <td>53</td>\n",
       "      <td>0.358</td>\n",
       "      <td>...</td>\n",
       "      <td>0</td>\n",
       "      <td>-8.0</td>\n",
       "      <td>2009-02-10</td>\n",
       "      <td>1610612750</td>\n",
       "      <td>1610612761</td>\n",
       "      <td>Timberwolves</td>\n",
       "      <td>200902100MIN</td>\n",
       "      <td>2009-02-10</td>\n",
       "      <td>Timberwolves</td>\n",
       "      <td>2009.0</td>\n",
       "    </tr>\n",
       "    <tr>\n",
       "      <th>5250</th>\n",
       "      <td>21000303</td>\n",
       "      <td>20</td>\n",
       "      <td>0.750</td>\n",
       "      <td>0.818182</td>\n",
       "      <td>0.666667</td>\n",
       "      <td>0.720</td>\n",
       "      <td>0.829268</td>\n",
       "      <td>0.609756</td>\n",
       "      <td>21</td>\n",
       "      <td>0.619</td>\n",
       "      <td>...</td>\n",
       "      <td>0</td>\n",
       "      <td>-6.0</td>\n",
       "      <td>2010-12-06</td>\n",
       "      <td>1610612753</td>\n",
       "      <td>1610612737</td>\n",
       "      <td>Magic</td>\n",
       "      <td>201012060ORL</td>\n",
       "      <td>2010-12-06</td>\n",
       "      <td>Magic</td>\n",
       "      <td>2011.0</td>\n",
       "    </tr>\n",
       "    <tr>\n",
       "      <th>14784</th>\n",
       "      <td>21800238</td>\n",
       "      <td>14</td>\n",
       "      <td>0.500</td>\n",
       "      <td>0.714286</td>\n",
       "      <td>0.285714</td>\n",
       "      <td>0.573</td>\n",
       "      <td>0.804878</td>\n",
       "      <td>0.341463</td>\n",
       "      <td>17</td>\n",
       "      <td>0.706</td>\n",
       "      <td>...</td>\n",
       "      <td>1</td>\n",
       "      <td>12.0</td>\n",
       "      <td>2018-11-18</td>\n",
       "      <td>1610612759</td>\n",
       "      <td>1610612744</td>\n",
       "      <td>Spurs</td>\n",
       "      <td>NaN</td>\n",
       "      <td>NaT</td>\n",
       "      <td>NaN</td>\n",
       "      <td>NaN</td>\n",
       "    </tr>\n",
       "    <tr>\n",
       "      <th>1927</th>\n",
       "      <td>20700670</td>\n",
       "      <td>44</td>\n",
       "      <td>0.182</td>\n",
       "      <td>0.300000</td>\n",
       "      <td>0.083333</td>\n",
       "      <td>0.390</td>\n",
       "      <td>0.487805</td>\n",
       "      <td>0.292683</td>\n",
       "      <td>44</td>\n",
       "      <td>0.409</td>\n",
       "      <td>...</td>\n",
       "      <td>1</td>\n",
       "      <td>16.0</td>\n",
       "      <td>2008-01-30</td>\n",
       "      <td>1610612750</td>\n",
       "      <td>1610612741</td>\n",
       "      <td>Timberwolves</td>\n",
       "      <td>200801300MIN</td>\n",
       "      <td>2008-01-30</td>\n",
       "      <td>Timberwolves</td>\n",
       "      <td>2008.0</td>\n",
       "    </tr>\n",
       "  </tbody>\n",
       "</table>\n",
       "<p>5 rows × 54 columns</p>\n",
       "</div>"
      ],
      "text/plain": [
       "        GAME_ID  G_home  W_PCT_home  HOME_RECORD_home  ROAD_RECORD_home  \\\n",
       "1117   11900013      82       0.500          0.634146          0.365854   \n",
       "3255   20800768      50       0.340          0.333333          0.346154   \n",
       "5250   21000303      20       0.750          0.818182          0.666667   \n",
       "14784  21800238      14       0.500          0.714286          0.285714   \n",
       "1927   20700670      44       0.182          0.300000          0.083333   \n",
       "\n",
       "       W_PCT_prev_home  HOME_RECORD_prev_home  ROAD_RECORD_prev_home  G_away  \\\n",
       "1117             0.476               0.609756               0.341463      82   \n",
       "3255             0.268               0.365854               0.170732      53   \n",
       "5250             0.720               0.829268               0.609756      21   \n",
       "14784            0.573               0.804878               0.341463      17   \n",
       "1927             0.390               0.487805               0.292683      44   \n",
       "\n",
       "       W_PCT_away  ...  HOME_TEAM_WINS  SCORE_DIFF  GAME_DATE_EST  \\\n",
       "1117        0.512  ...               0       -24.0     2019-10-07   \n",
       "3255        0.358  ...               0        -8.0     2009-02-10   \n",
       "5250        0.619  ...               0        -6.0     2010-12-06   \n",
       "14784       0.706  ...               1        12.0     2018-11-18   \n",
       "1927        0.409  ...               1        16.0     2008-01-30   \n",
       "\n",
       "       TEAM_ID_home  TEAM_ID_away  NICKNAME_home       game_id  date_game  \\\n",
       "1117     1610612765    1610612753        Pistons           NaN        NaT   \n",
       "3255     1610612750    1610612761   Timberwolves  200902100MIN 2009-02-10   \n",
       "5250     1610612753    1610612737          Magic  201012060ORL 2010-12-06   \n",
       "14784    1610612759    1610612744          Spurs           NaN        NaT   \n",
       "1927     1610612750    1610612741   Timberwolves  200801300MIN 2008-01-30   \n",
       "\n",
       "            fran_id  year_id  \n",
       "1117            NaN      NaN  \n",
       "3255   Timberwolves   2009.0  \n",
       "5250          Magic   2011.0  \n",
       "14784           NaN      NaN  \n",
       "1927   Timberwolves   2008.0  \n",
       "\n",
       "[5 rows x 54 columns]"
      ]
     },
     "execution_count": 12,
     "metadata": {},
     "output_type": "execute_result"
    }
   ],
   "source": [
    "# making the columns datetime objects\n",
    "EloData.date_game = pd.to_datetime(EloData.date_game)\n",
    "gameData.GAME_DATE_EST = pd.to_datetime(gameData.GAME_DATE_EST)\n",
    "\n",
    "#merging the datasets \n",
    "gameData= pd.merge(gameData, EloData[['game_id', 'date_game', 'fran_id', 'year_id']],  how='left', \n",
    "                   left_on=['GAME_DATE_EST', 'NICKNAME_home'],\n",
    "                   right_on = ['date_game', 'fran_id'])\n",
    "gameData[['GAME_DATE_EST', 'date_game','NICKNAME_home', 'fran_id']\n",
    "        ].sort_values('GAME_DATE_EST')\n",
    "gameData.sample(5)"
   ]
  },
  {
   "cell_type": "code",
   "execution_count": 13,
   "id": "athletic-brighton",
   "metadata": {},
   "outputs": [
    {
     "data": {
      "text/plain": [
       "0      2007-10-06\n",
       "1      2007-10-08\n",
       "2      2007-10-08\n",
       "3      2007-10-09\n",
       "4      2007-10-09\n",
       "          ...    \n",
       "1254   2020-12-18\n",
       "1247   2020-12-18\n",
       "1255   2020-12-19\n",
       "1256   2020-12-19\n",
       "1257   2020-12-19\n",
       "Name: GAME_DATE_EST, Length: 17922, dtype: datetime64[ns]"
      ]
     },
     "execution_count": 13,
     "metadata": {},
     "output_type": "execute_result"
    }
   ],
   "source": [
    "gameData.GAME_DATE_EST.sort_values()"
   ]
  },
  {
   "cell_type": "code",
   "execution_count": 14,
   "id": "arabic-bracelet",
   "metadata": {
    "scrolled": true
   },
   "outputs": [
    {
     "data": {
      "text/html": [
       "<div>\n",
       "<style scoped>\n",
       "    .dataframe tbody tr th:only-of-type {\n",
       "        vertical-align: middle;\n",
       "    }\n",
       "\n",
       "    .dataframe tbody tr th {\n",
       "        vertical-align: top;\n",
       "    }\n",
       "\n",
       "    .dataframe thead th {\n",
       "        text-align: right;\n",
       "    }\n",
       "</style>\n",
       "<table border=\"1\" class=\"dataframe\">\n",
       "  <thead>\n",
       "    <tr style=\"text-align: right;\">\n",
       "      <th></th>\n",
       "      <th>GAME_ID</th>\n",
       "      <th>G_home</th>\n",
       "      <th>W_PCT_home</th>\n",
       "      <th>HOME_RECORD_home</th>\n",
       "      <th>ROAD_RECORD_home</th>\n",
       "      <th>W_PCT_prev_home</th>\n",
       "      <th>HOME_RECORD_prev_home</th>\n",
       "      <th>ROAD_RECORD_prev_home</th>\n",
       "      <th>G_away</th>\n",
       "      <th>W_PCT_away</th>\n",
       "      <th>...</th>\n",
       "      <th>HOME_TEAM_WINS</th>\n",
       "      <th>SCORE_DIFF</th>\n",
       "      <th>GAME_DATE_EST</th>\n",
       "      <th>TEAM_ID_home</th>\n",
       "      <th>TEAM_ID_away</th>\n",
       "      <th>NICKNAME_home</th>\n",
       "      <th>game_id</th>\n",
       "      <th>date_game</th>\n",
       "      <th>fran_id</th>\n",
       "      <th>year_id</th>\n",
       "    </tr>\n",
       "  </thead>\n",
       "  <tbody>\n",
       "    <tr>\n",
       "      <th>9563</th>\n",
       "      <td>21301167</td>\n",
       "      <td>77</td>\n",
       "      <td>0.584</td>\n",
       "      <td>0.631579</td>\n",
       "      <td>0.538462</td>\n",
       "      <td>0.683</td>\n",
       "      <td>0.780488</td>\n",
       "      <td>0.585366</td>\n",
       "      <td>77</td>\n",
       "      <td>0.688</td>\n",
       "      <td>...</td>\n",
       "      <td>1</td>\n",
       "      <td>5.0</td>\n",
       "      <td>2014-04-09</td>\n",
       "      <td>1610612763</td>\n",
       "      <td>1610612748</td>\n",
       "      <td>Grizzlies</td>\n",
       "      <td>201404090MEM</td>\n",
       "      <td>2014-04-09</td>\n",
       "      <td>Grizzlies</td>\n",
       "      <td>2014.0</td>\n",
       "    </tr>\n",
       "    <tr>\n",
       "      <th>1810</th>\n",
       "      <td>20700553</td>\n",
       "      <td>36</td>\n",
       "      <td>0.250</td>\n",
       "      <td>0.294118</td>\n",
       "      <td>0.210526</td>\n",
       "      <td>0.378</td>\n",
       "      <td>0.487805</td>\n",
       "      <td>0.268293</td>\n",
       "      <td>36</td>\n",
       "      <td>0.694</td>\n",
       "      <td>...</td>\n",
       "      <td>0</td>\n",
       "      <td>-2.0</td>\n",
       "      <td>2008-01-14</td>\n",
       "      <td>1610612760</td>\n",
       "      <td>1610612747</td>\n",
       "      <td>Thunder</td>\n",
       "      <td>200801140SEA</td>\n",
       "      <td>2008-01-14</td>\n",
       "      <td>Thunder</td>\n",
       "      <td>2008.0</td>\n",
       "    </tr>\n",
       "    <tr>\n",
       "      <th>1805</th>\n",
       "      <td>20700548</td>\n",
       "      <td>35</td>\n",
       "      <td>0.857</td>\n",
       "      <td>0.888889</td>\n",
       "      <td>0.823529</td>\n",
       "      <td>0.293</td>\n",
       "      <td>0.292683</td>\n",
       "      <td>0.292683</td>\n",
       "      <td>35</td>\n",
       "      <td>0.543</td>\n",
       "      <td>...</td>\n",
       "      <td>0</td>\n",
       "      <td>-5.0</td>\n",
       "      <td>2008-01-14</td>\n",
       "      <td>1610612738</td>\n",
       "      <td>1610612764</td>\n",
       "      <td>Celtics</td>\n",
       "      <td>200801140BOS</td>\n",
       "      <td>2008-01-14</td>\n",
       "      <td>Celtics</td>\n",
       "      <td>2008.0</td>\n",
       "    </tr>\n",
       "    <tr>\n",
       "      <th>8149</th>\n",
       "      <td>21200982</td>\n",
       "      <td>66</td>\n",
       "      <td>0.758</td>\n",
       "      <td>0.870968</td>\n",
       "      <td>0.657143</td>\n",
       "      <td>0.758</td>\n",
       "      <td>0.848485</td>\n",
       "      <td>0.666667</td>\n",
       "      <td>65</td>\n",
       "      <td>0.338</td>\n",
       "      <td>...</td>\n",
       "      <td>1</td>\n",
       "      <td>6.0</td>\n",
       "      <td>2013-03-16</td>\n",
       "      <td>1610612759</td>\n",
       "      <td>1610612739</td>\n",
       "      <td>Spurs</td>\n",
       "      <td>201303160SAS</td>\n",
       "      <td>2013-03-16</td>\n",
       "      <td>Spurs</td>\n",
       "      <td>2013.0</td>\n",
       "    </tr>\n",
       "    <tr>\n",
       "      <th>16989</th>\n",
       "      <td>40800235</td>\n",
       "      <td>82</td>\n",
       "      <td>0.659</td>\n",
       "      <td>0.804878</td>\n",
       "      <td>0.512195</td>\n",
       "      <td>0.610</td>\n",
       "      <td>0.804878</td>\n",
       "      <td>0.414634</td>\n",
       "      <td>82</td>\n",
       "      <td>0.610</td>\n",
       "      <td>...</td>\n",
       "      <td>1</td>\n",
       "      <td>14.0</td>\n",
       "      <td>2009-05-13</td>\n",
       "      <td>1610612743</td>\n",
       "      <td>1610612742</td>\n",
       "      <td>Nuggets</td>\n",
       "      <td>200905130DEN</td>\n",
       "      <td>2009-05-13</td>\n",
       "      <td>Nuggets</td>\n",
       "      <td>2009.0</td>\n",
       "    </tr>\n",
       "  </tbody>\n",
       "</table>\n",
       "<p>5 rows × 54 columns</p>\n",
       "</div>"
      ],
      "text/plain": [
       "        GAME_ID  G_home  W_PCT_home  HOME_RECORD_home  ROAD_RECORD_home  \\\n",
       "9563   21301167      77       0.584          0.631579          0.538462   \n",
       "1810   20700553      36       0.250          0.294118          0.210526   \n",
       "1805   20700548      35       0.857          0.888889          0.823529   \n",
       "8149   21200982      66       0.758          0.870968          0.657143   \n",
       "16989  40800235      82       0.659          0.804878          0.512195   \n",
       "\n",
       "       W_PCT_prev_home  HOME_RECORD_prev_home  ROAD_RECORD_prev_home  G_away  \\\n",
       "9563             0.683               0.780488               0.585366      77   \n",
       "1810             0.378               0.487805               0.268293      36   \n",
       "1805             0.293               0.292683               0.292683      35   \n",
       "8149             0.758               0.848485               0.666667      65   \n",
       "16989            0.610               0.804878               0.414634      82   \n",
       "\n",
       "       W_PCT_away  ...  HOME_TEAM_WINS  SCORE_DIFF  GAME_DATE_EST  \\\n",
       "9563        0.688  ...               1         5.0     2014-04-09   \n",
       "1810        0.694  ...               0        -2.0     2008-01-14   \n",
       "1805        0.543  ...               0        -5.0     2008-01-14   \n",
       "8149        0.338  ...               1         6.0     2013-03-16   \n",
       "16989       0.610  ...               1        14.0     2009-05-13   \n",
       "\n",
       "       TEAM_ID_home  TEAM_ID_away  NICKNAME_home       game_id  date_game  \\\n",
       "9563     1610612763    1610612748      Grizzlies  201404090MEM 2014-04-09   \n",
       "1810     1610612760    1610612747        Thunder  200801140SEA 2008-01-14   \n",
       "1805     1610612738    1610612764        Celtics  200801140BOS 2008-01-14   \n",
       "8149     1610612759    1610612739          Spurs  201303160SAS 2013-03-16   \n",
       "16989    1610612743    1610612742        Nuggets  200905130DEN 2009-05-13   \n",
       "\n",
       "         fran_id  year_id  \n",
       "9563   Grizzlies   2014.0  \n",
       "1810     Thunder   2008.0  \n",
       "1805     Celtics   2008.0  \n",
       "8149       Spurs   2013.0  \n",
       "16989    Nuggets   2009.0  \n",
       "\n",
       "[5 rows x 54 columns]"
      ]
     },
     "execution_count": 14,
     "metadata": {},
     "output_type": "execute_result"
    }
   ],
   "source": [
    "# getting rid of all the preseason games \n",
    "gameData = gameData[gameData['date_game']==gameData['date_game']]\n",
    "gameData.sample(5)"
   ]
  },
  {
   "cell_type": "code",
   "execution_count": 15,
   "id": "temporal-momentum",
   "metadata": {},
   "outputs": [
    {
     "data": {
      "text/plain": [
       "year_id\n",
       "2008.0    1315\n",
       "2009.0    1315\n",
       "2010.0    1312\n",
       "2011.0    1310\n",
       "2012.0    1074\n",
       "2013.0    1313\n",
       "2014.0    1319\n",
       "2015.0    1311\n",
       "dtype: int64"
      ]
     },
     "execution_count": 15,
     "metadata": {},
     "output_type": "execute_result"
    }
   ],
   "source": [
    "# checking to see if each season has a reasonable number of games\n",
    "# by counting the number of games per season\n",
    "gameData.groupby('year_id').size()"
   ]
  },
  {
   "cell_type": "markdown",
   "id": "systematic-former",
   "metadata": {},
   "source": [
    "As you can see above, each season has roughly the same number of games except the 2012 season. This is because the NBA had a lockout in 2012 and missed the first 16 games of the regular season. 16 games, times 30 teams, divided by 2 teams per game, equals 240 which makes up the difference for the normal amount of games.\n",
    "<br>\n",
    "<h2>Making the Models</h2>\n",
    "Now we can start to create the models that predict the outcomes of the games. The next step is to find the attributes in the data set with the highest correaltion with our dependant variables (HOME_TEAM_WINS and SCORE_DIFF). "
   ]
  },
  {
   "cell_type": "code",
   "execution_count": 16,
   "id": "legitimate-junction",
   "metadata": {},
   "outputs": [],
   "source": [
    "# independant variables\n",
    "feat_cols = [\n",
    "    'G_home', 'W_PCT_home', 'HOME_RECORD_home',\n",
    "    'ROAD_RECORD_home', 'W_PCT_prev_home', 'HOME_RECORD_prev_home',\n",
    "    'ROAD_RECORD_prev_home', 'G_away', 'W_PCT_away', 'HOME_RECORD_away',\n",
    "    'ROAD_RECORD_away', 'W_PCT_prev_away', 'HOME_RECORD_prev_away',\n",
    "    'ROAD_RECORD_prev_away', 'WIN_PRCT_home_3g', 'PTS_home_3g',\n",
    "    'FG_PCT_home_3g', 'FT_PCT_home_3g', 'FG3_PCT_home_3g', 'AST_home_3g',\n",
    "    'REB_home_3g', 'WIN_PRCT_away_3g', 'PTS_away_3g', 'FG_PCT_away_3g',\n",
    "    'FT_PCT_away_3g', 'FG3_PCT_away_3g', 'AST_away_3g', 'REB_away_3g',\n",
    "    'WIN_PRCT_home_10g', 'PTS_home_10g', 'FG_PCT_home_10g',\n",
    "    'FT_PCT_home_10g', 'FG3_PCT_home_10g', 'AST_home_10g', 'REB_home_10g',\n",
    "    'WIN_PRCT_away_10g', 'PTS_away_10g', 'FG_PCT_away_10g',\n",
    "    'FT_PCT_away_10g', 'FG3_PCT_away_10g', 'AST_away_10g', 'REB_away_10g'\n",
    "]\n",
    "# dependant variables\n",
    "home_team_wins = 'HOME_TEAM_WINS'\n",
    "score_diff = 'SCORE_DIFF'"
   ]
  },
  {
   "cell_type": "code",
   "execution_count": 17,
   "id": "durable-encyclopedia",
   "metadata": {
    "scrolled": true
   },
   "outputs": [
    {
     "data": {
      "text/plain": [
       "W_PCT_away              -0.238645\n",
       "HOME_RECORD_away        -0.215029\n",
       "ROAD_RECORD_away        -0.214014\n",
       "WIN_PRCT_away_10g       -0.202055\n",
       "W_PCT_prev_away         -0.166716\n",
       "ROAD_RECORD_prev_away   -0.162513\n",
       "WIN_PRCT_away_3g        -0.151756\n",
       "HOME_RECORD_prev_away   -0.151444\n",
       "FG_PCT_away_10g         -0.127184\n",
       "FG_PCT_away_3g          -0.119540\n",
       "PTS_away_10g            -0.086738\n",
       "PTS_away_3g             -0.084165\n",
       "AST_away_10g            -0.080602\n",
       "AST_away_3g             -0.075255\n",
       "FG3_PCT_away_10g        -0.070052\n",
       "FG3_PCT_away_3g         -0.042217\n",
       "REB_away_10g            -0.032485\n",
       "REB_away_3g             -0.018154\n",
       "FT_PCT_away_3g          -0.017587\n",
       "FT_PCT_away_10g         -0.016079\n",
       "G_home                   0.019751\n",
       "G_away                   0.024982\n",
       "REB_home_3g              0.030234\n",
       "FT_PCT_home_3g           0.039231\n",
       "FT_PCT_home_10g          0.041921\n",
       "REB_home_10g             0.044327\n",
       "FG3_PCT_home_3g          0.051681\n",
       "AST_home_3g              0.072402\n",
       "FG3_PCT_home_10g         0.090930\n",
       "AST_home_10g             0.091092\n",
       "PTS_home_3g              0.099730\n",
       "FG_PCT_home_3g           0.104597\n",
       "PTS_home_10g             0.129084\n",
       "WIN_PRCT_home_3g         0.148048\n",
       "FG_PCT_home_10g          0.148325\n",
       "HOME_RECORD_prev_home    0.178606\n",
       "ROAD_RECORD_prev_home    0.194720\n",
       "W_PCT_prev_home          0.198099\n",
       "WIN_PRCT_home_10g        0.227094\n",
       "ROAD_RECORD_home         0.242301\n",
       "HOME_RECORD_home         0.258797\n",
       "W_PCT_home               0.276134\n",
       "HOME_TEAM_WINS           1.000000\n",
       "Name: HOME_TEAM_WINS, dtype: float64"
      ]
     },
     "execution_count": 17,
     "metadata": {},
     "output_type": "execute_result"
    }
   ],
   "source": [
    "# finding the correaltion of every attribute to home team winning\n",
    "winner_corr = gameData[feat_cols + [home_team_wins]].corr()['HOME_TEAM_WINS']\n",
    "winner_corr.sort_values()"
   ]
  },
  {
   "cell_type": "code",
   "execution_count": 18,
   "id": "increasing-contrary",
   "metadata": {},
   "outputs": [
    {
     "data": {
      "text/plain": [
       "W_PCT_away              -0.265504\n",
       "HOME_RECORD_away        -0.242639\n",
       "ROAD_RECORD_away        -0.235535\n",
       "WIN_PRCT_away_10g       -0.227209\n",
       "W_PCT_prev_away         -0.176691\n",
       "ROAD_RECORD_prev_away   -0.173556\n",
       "WIN_PRCT_away_3g        -0.169690\n",
       "HOME_RECORD_prev_away   -0.159364\n",
       "FG_PCT_away_10g         -0.137636\n",
       "FG_PCT_away_3g          -0.123892\n",
       "PTS_away_10g            -0.105683\n",
       "AST_away_10g            -0.102544\n",
       "PTS_away_3g             -0.093807\n",
       "AST_away_3g             -0.089261\n",
       "FG3_PCT_away_10g        -0.086644\n",
       "FG3_PCT_away_3g         -0.060537\n",
       "REB_away_10g            -0.043922\n",
       "REB_away_3g             -0.029435\n",
       "FT_PCT_away_10g         -0.021351\n",
       "FT_PCT_away_3g          -0.015675\n",
       "G_home                   0.014943\n",
       "G_away                   0.016555\n",
       "FT_PCT_home_3g           0.027986\n",
       "REB_home_3g              0.039422\n",
       "FT_PCT_home_10g          0.047842\n",
       "REB_home_10g             0.054293\n",
       "FG3_PCT_home_3g          0.058630\n",
       "AST_home_3g              0.079003\n",
       "AST_home_10g             0.101182\n",
       "FG3_PCT_home_10g         0.105231\n",
       "FG_PCT_home_3g           0.115835\n",
       "PTS_home_3g              0.116258\n",
       "PTS_home_10g             0.159946\n",
       "WIN_PRCT_home_3g         0.165636\n",
       "FG_PCT_home_10g          0.174338\n",
       "HOME_RECORD_prev_home    0.186898\n",
       "ROAD_RECORD_prev_home    0.205700\n",
       "W_PCT_prev_home          0.208275\n",
       "WIN_PRCT_home_10g        0.252810\n",
       "ROAD_RECORD_home         0.261483\n",
       "HOME_RECORD_home         0.281064\n",
       "W_PCT_home               0.299615\n",
       "SCORE_DIFF               1.000000\n",
       "Name: SCORE_DIFF, dtype: float64"
      ]
     },
     "execution_count": 18,
     "metadata": {},
     "output_type": "execute_result"
    }
   ],
   "source": [
    "# finding the correaltion of every attribute to the score differential\n",
    "score_diff_corr = gameData[feat_cols + [score_diff]].corr()['SCORE_DIFF']\n",
    "score_diff_corr.sort_values()"
   ]
  },
  {
   "cell_type": "markdown",
   "id": "utility-mailing",
   "metadata": {},
   "source": [
    "Looking above at both the SCORE_DIFF and HOME_TEAM_WINS correlations, you can see a pattern. Attributes that describe the home team, such as W_PCT_home, tend be positive and attributes  that describe the away team, such as W_PCT_away, tend to be negative. This is because both dependant variables are in the perspective of the home team, meaning that the better the home team is, the higher we should exepct the SCORE_DIFF to be and the more likely they should win (HOME_TEAM_WINS == 1). The better the away team is, the more likley we see them chip away at the score differential and become more likley to win (HOME_TEAM_WINS == 0). In the end, we decided to take all the attributes with a correaltion greater than 0.1 or less than -0.1 to be considered in our models."
   ]
  },
  {
   "cell_type": "code",
   "execution_count": 19,
   "id": "hired-proposition",
   "metadata": {},
   "outputs": [],
   "source": [
    "# picking the features that have a |correlation| > .15 for the model \n",
    "# that predicts the winner\n",
    "winner_feat_cols = winner_corr[winner_corr.abs() > 0.15].index\n",
    "winner_feat_cols = [c for c in winner_feat_cols if c != home_team_wins]\n",
    "# picking the features that have a |correlation| > .1 for the model \n",
    "# that predicts the the point differential of the game\n",
    "diff_feat_cols = score_diff_corr[score_diff_corr.abs() > 0.15].index\n",
    "diff_feat_cols = [c for c in diff_feat_cols if c != score_diff]"
   ]
  },
  {
   "cell_type": "markdown",
   "id": "social-project",
   "metadata": {},
   "source": [
    "Now, it is time to create our models. We will start with the classifier model to predict the winner of the game. Below is a function that takes in a dataset, independant and dependant variables, and a type of classifier model, and creates a model that fits to a random subset of the data. Afterwards, it outputs performance measures that show the effectiveness of the model on the unused subset of data. The three performance measures on the test data we chose are:<br>\n",
    "<br>Accuracy: the percentage of correct predictions.\n",
    "<br>Precision: the percentage of positive predictions (HOME_TEAM_WINS == 1) that were correct.\n",
    "<br>Recall: the percentage of actual positives that you predicted correctly. <br><br>\n",
    "Using these performance measures, we are able to accurately assess the effectiveness of different types of classification methods. "
   ]
  },
  {
   "cell_type": "code",
   "execution_count": 20,
   "id": "direct-transaction",
   "metadata": {},
   "outputs": [],
   "source": [
    "# function that takes a dataset, list of features, dependant variable, \n",
    "# and choice of classifier, and outputs perforamnce measures of that classifier on the data\n",
    "def classifier(games, X, y, classifier):\n",
    "    # take an average over n tests of all performance measures\n",
    "    n = 10\n",
    "    accuracy = []\n",
    "    precision = []\n",
    "    recall = []\n",
    "    \n",
    "\n",
    "    for i in range(n):    \n",
    "        # splitting the dataset into train and test sets\n",
    "        ind_train, ind_test, dep_train, dep_test = ms.train_test_split(\n",
    "            games[X], games[y])\n",
    "        actual = np.array(dep_test)\n",
    "\n",
    "        #fitting the classifier to the training set set\n",
    "        classifier.fit(ind_train, dep_train)   \n",
    "        #predicting the test set based on the classifier\n",
    "        predicted = classifier.predict(ind_test)\n",
    "\n",
    "        # comparing the predicted results to the actual\n",
    "        false_pos = 0\n",
    "        false_neg = 0\n",
    "        correct_1 = 0\n",
    "        correct_0 = 0     \n",
    "        for i in range(len(actual)):\n",
    "            if predicted[i] == actual[i]:\n",
    "                if predicted[i] == 1:\n",
    "                    correct_1+=1\n",
    "                else:\n",
    "                    correct_0+=1\n",
    "            elif predicted[i] == 1:\n",
    "                false_pos+=1\n",
    "            else:\n",
    "                false_neg+=1\n",
    "                \n",
    "        # storing the performace measures of each iteration\n",
    "        accuracy.append((correct_0+correct_1)/len(actual))\n",
    "        precision.append(correct_1/(correct_1+false_pos))\n",
    "        recall.append(correct_1/(correct_1+false_neg))\n",
    "\n",
    "    print('Accuracy: '+str(int(100*statistics.mean(accuracy)))+'%')\n",
    "    print('Precision: '+str(int(100*statistics.mean(precision)))+'%')\n",
    "    print('Recall: '+str(int(100*statistics.mean(recall)))+'%')"
   ]
  },
  {
   "cell_type": "code",
   "execution_count": 21,
   "id": "monetary-lightweight",
   "metadata": {},
   "outputs": [
    {
     "name": "stdout",
     "output_type": "stream",
     "text": [
      "Results for predicting the correct winner:\n",
      "\n",
      "Decision Tree Results: \n",
      "Accuracy: 58%\n",
      "Precision: 65%\n",
      "Recall: 64%\n",
      "\n",
      "K-Nearest Neighbors Classifier Results: \n",
      "Accuracy: 63%\n",
      "Precision: 68%\n",
      "Recall: 73%\n",
      "\n",
      "Random Forest Classifier Results: \n",
      "Accuracy: 65%\n",
      "Precision: 69%\n",
      "Recall: 75%\n"
     ]
    }
   ],
   "source": [
    "print('Results for predicting the correct winner:\\n')\n",
    "print('Decision Tree Results: ')\n",
    "classifier(gameData, winner_feat_cols, home_team_wins, DecisionTreeClassifier())\n",
    "print('\\nK-Nearest Neighbors Classifier Results: ')\n",
    "classifier(gameData, winner_feat_cols, home_team_wins, KNeighborsClassifier())\n",
    "print('\\nRandom Forest Classifier Results: ')\n",
    "classifier(gameData, winner_feat_cols, home_team_wins, RandomForestClassifier())"
   ]
  },
  {
   "cell_type": "markdown",
   "id": "inner-acrylic",
   "metadata": {},
   "source": [
    "As you can see above, it seems that the Random Forest Classifier seems like the most effective model to predict the winner of the game.<br><br>\n",
    "Next, we will create a model that attempts to predict the score differential of the game. To do this, we created a function similar to the one above, but this time for regression instead of classification. The function also outputs a distribution of the distances to the actual score differential, the mean sqaured error, and what percentage of the of the predicted scores are within multiple values.  "
   ]
  },
  {
   "cell_type": "code",
   "execution_count": 22,
   "id": "quarterly-province",
   "metadata": {},
   "outputs": [],
   "source": [
    "# calulates the percentage of the values in a list that are less than n\n",
    "def perc_lessthan_n(lst, n):\n",
    "    return str(int(100*len([e for e in lst if e < n])/len(lst)))+'%'\n",
    "def regressor(games, X, y, regressor):\n",
    "    # take an average over n tests of all performance measures\n",
    "    n = 10\n",
    "    # store the errors of each prediction of each iteration\n",
    "    errors = []\n",
    "    # store the mean squared error of each iteration\n",
    "    mse = []\n",
    "    for i in range(n):    \n",
    "        # splitting the dataset into train and test sets\n",
    "        ind_train, ind_test, dep_train, dep_test = ms.train_test_split(\n",
    "            games[X], games[y])\n",
    "        actual = np.array(dep_test)\n",
    "\n",
    "        #fitting the regressor to the training set set\n",
    "        regressor.fit(ind_train, dep_train)   \n",
    "        #predicting the test set based on the classifier\n",
    "        predicted = regressor.predict(ind_test)\n",
    "        \n",
    "        # storing the errors of each predcition (|actual-predicted|)\n",
    "        errors = np.concatenate((errors, np.abs(np.subtract(actual, predicted))))\n",
    "        #mean squared error of the predictions ((actual-predicted)^2/n )\n",
    "        mse.append(statistics.mean(np.square(np.subtract(actual, predicted))))\n",
    "    \n",
    "    plt.hist(errors, 30, density=True)\n",
    "    plt.title('Errors of the Regression Model')\n",
    "    plt.xlabel('|Actual-Predicted| Score Differential')\n",
    "    plt.show()\n",
    "    print('Average Mean Square Error: '+str(int(statistics.mean(mse))))\n",
    "    print('Percentage of Predictions Within 1 Point: '+ perc_lessthan_n(errors, 1))\n",
    "    print('Percentage of Predictions Within 5 Points: '+ perc_lessthan_n(errors, 5))\n",
    "    print('Percentage of Predictions Within 10 Points: '+ perc_lessthan_n(errors, 10))\n",
    "    print('Percentage of Predictions Within 20 Points: '+ perc_lessthan_n(errors, 20))\n",
    "    "
   ]
  },
  {
   "cell_type": "code",
   "execution_count": 23,
   "id": "knowing-beginning",
   "metadata": {},
   "outputs": [
    {
     "data": {
      "image/png": "[encoded data removed]",
      "text/plain": [
       "<Figure size 432x288 with 1 Axes>"
      ]
     },
     "metadata": {
      "needs_background": "light"
     },
     "output_type": "display_data"
    },
    {
     "name": "stdout",
     "output_type": "stream",
     "text": [
      "Average Mean Square Error: 178\n",
      "Percentage of Predictions Within 1 Point: 5%\n",
      "Percentage of Predictions Within 5 Points: 29%\n",
      "Percentage of Predictions Within 10 Points: 55%\n",
      "Percentage of Predictions Within 20 Points: 86%\n"
     ]
    }
   ],
   "source": [
    "score_diff_model = KNeighborsRegressor()\n",
    "regressor(gameData, diff_feat_cols, score_diff, score_diff_model)"
   ]
  },
  {
   "cell_type": "markdown",
   "id": "former-armenia",
   "metadata": {},
   "source": [
    "Using a k-nearest neighbors regression tool, the model is actually pretty accurate in determining the score differential of the game. Almost half the time the model predicts a score differential within five points of the actual one, and with ten points more than three-quarters of the time. "
   ]
  },
  {
   "cell_type": "markdown",
   "id": "8c643519-b0f1-4bab-986f-e81b07d52375",
   "metadata": {},
   "source": [
    "<h2>The Next Stage: Using ELO to Predict NBA Games</h2>"
   ]
  },
  {
   "cell_type": "markdown",
   "id": "d18216b6-e2a0-4a18-87d0-4cb69df88166",
   "metadata": {},
   "source": [
    "While making the models above was fun an all, we wanted to explore a team-rating sytem, called ELO, that we thought was really cool and unique, and use that to see if it could potentially improve our models. Now what is ELO?\n",
    "\n",
    "ELO was orignially invented as a new way to rate chess-players and compare their skills levels. But ELO is not unique to chess and can be used on any zero-sum game, such as basketball. The way ELO works is that the difference in ELO rating between two players is a prediction of the probability that each player will win. For example, if Player 1 is rated at 1570, and Player 2 is rated at 1700, then Player 2 is considered to be the better player before the game and is expected to win a certain probability above 50% which one can calculate. However, after every game, the players' ELO rating gets updated based on the results of the game. For example, if Player 1 is rated at 1570, and Player 2 is rated at 1700 but Player 1 wins, despite being rated lower, then his rating will go up and Player 2's rating will go down by the same amount. However, the amount by which each player's ratings will update is dependent on what we expect to happen. If a player with a much higher rating wins, that is what we expected to happen, and so the ratings won't change my that much. But on the other hand, if a player with a much lower rating pulls off the upset and wins, there will a lot of points transferred. \n",
    "Although we could go into more detail, we'll just explain the basic principle of ELO. If you want to learn more about ELO and its uses, check out this wikipedia page which outlines a lot of interesting history and goes into more mathematical details: https://en.wikipedia.org/wiki/Elo_rating_system.\n",
    "\n",
    "Next, we will be looking at NBA teams ELO rating as a way to predict NBA games and point spreads. Luckily, 538 has generated for all NBA teams until 2015 so there is a lot to work with. (Check out this website for more insight into how 538 calculates their ELO ratings for NBA teams: https://fivethirtyeight.com/features/how-we-calculate-nba-elo-ratings/)\n",
    "\n"
   ]
  },
  {
   "cell_type": "markdown",
   "id": "14417859-8017-445f-bf9d-caf93b03255f",
   "metadata": {
    "tags": []
   },
   "source": [
    "<h2>First Step: Get The ELO data:</h2>"
   ]
  },
  {
   "cell_type": "code",
   "execution_count": 24,
   "id": "ec3c9951-e9ef-40c6-acee-0ed3b557d558",
   "metadata": {},
   "outputs": [],
   "source": [
    "EloData = pd.read_csv(\"./data/nbaallelo.csv\")"
   ]
  },
  {
   "cell_type": "code",
   "execution_count": 25,
   "id": "c780d496-3fae-458d-9f72-dccbf8bdf6eb",
   "metadata": {},
   "outputs": [],
   "source": [
    "# # Filtering the data to only include games from 2007 and onward, \n",
    "# because that matches up with the data that our other models were trained with,\n",
    "# and we want to be able to easily compare our models.\n",
    "# EloData = EloData[EloData[\"year_id\"]>=1968]\n",
    "# EloData.head()"
   ]
  },
  {
   "cell_type": "markdown",
   "id": "e0bf534a-f759-49c6-9247-f00a7c0c6a89",
   "metadata": {},
   "source": [
    "<h3>Explanation of the data</h3>"
   ]
  },
  {
   "cell_type": "markdown",
   "id": "e3a558ef-ad7a-4dbe-a8be-46902086cdcf",
   "metadata": {},
   "source": [
    "Each game played in the NBA is represented twice in our dataset, as two rows. One from the home team's perspective and one from the away team's perspective. We don't want to double count games, so we are going to remove all games from the away team's perspective so that each row represents a unique game."
   ]
  },
  {
   "cell_type": "code",
   "execution_count": 26,
   "id": "975ba0a7-07c8-40cc-aed0-e026f161d63d",
   "metadata": {},
   "outputs": [],
   "source": [
    "EloData = EloData[EloData[\"_iscopy\"]==0]"
   ]
  },
  {
   "cell_type": "markdown",
   "id": "b2dccc63-e236-402f-8a55-bf3ac30c416b",
   "metadata": {},
   "source": [
    "<h5>Looking at the columns of our dataset:"
   ]
  },
  {
   "cell_type": "code",
   "execution_count": 27,
   "id": "07315998-9200-4c0d-a7ad-590071a1a265",
   "metadata": {},
   "outputs": [
    {
     "data": {
      "text/plain": [
       "Index(['gameorder', 'game_id', 'lg_id', '_iscopy', 'year_id', 'date_game',\n",
       "       'seasongame', 'is_playoffs', 'team_id', 'fran_id', 'pts', 'elo_i',\n",
       "       'elo_n', 'win_equiv', 'opp_id', 'opp_fran', 'opp_pts', 'opp_elo_i',\n",
       "       'opp_elo_n', 'game_location', 'game_result', 'forecast', 'notes'],\n",
       "      dtype='object')"
      ]
     },
     "execution_count": 27,
     "metadata": {},
     "output_type": "execute_result"
    }
   ],
   "source": [
    "EloData.columns"
   ]
  },
  {
   "cell_type": "markdown",
   "id": "db09d312-331b-4899-9c4a-496a024a5808",
   "metadata": {},
   "source": [
    "Now each row represents a unique game. There are a couple of key columns that we will look at for our ELO-based models. The main two are elo_i and  opp_elo_i. These represent the ELO rating of the home team and the away team before the game is played, respectivly. And, of course, forecast is the probability that the home team will win based on the ELO of the two teams and game_result is whether or not the home team won this game. "
   ]
  },
  {
   "cell_type": "markdown",
   "id": "61448356-cd67-4f7c-a394-f6799b8a025a",
   "metadata": {},
   "source": [
    "Below I am creating a new column in my dataset called EloPrediction, which converts the forecast column, which is a probability,\n",
    "to a binary column with just W and L. The way it works is if the forecast column is >= 0.5, I predict a win for the home team, if it's below,\n",
    "I will predict a loss."
   ]
  },
  {
   "cell_type": "code",
   "execution_count": 28,
   "id": "60020266-dee9-4e3c-8c77-25277c4dc4a3",
   "metadata": {},
   "outputs": [],
   "source": [
    "for index, row in EloData.iterrows():\n",
    "    pred = 'W' if row['forecast'] >= 0.5 else 'L';\n",
    "    correct = row[\"game_result\"] == pred;\n",
    "    EloData.at[index, 'EloPrediction'] = pred"
   ]
  },
  {
   "cell_type": "code",
   "execution_count": 29,
   "id": "bbb28fed-40f2-4ce2-8448-b87c931acfbe",
   "metadata": {},
   "outputs": [
    {
     "data": {
      "text/html": [
       "<div>\n",
       "<style scoped>\n",
       "    .dataframe tbody tr th:only-of-type {\n",
       "        vertical-align: middle;\n",
       "    }\n",
       "\n",
       "    .dataframe tbody tr th {\n",
       "        vertical-align: top;\n",
       "    }\n",
       "\n",
       "    .dataframe thead th {\n",
       "        text-align: right;\n",
       "    }\n",
       "</style>\n",
       "<table border=\"1\" class=\"dataframe\">\n",
       "  <thead>\n",
       "    <tr style=\"text-align: right;\">\n",
       "      <th></th>\n",
       "      <th>game_result</th>\n",
       "      <th>EloPrediction</th>\n",
       "    </tr>\n",
       "  </thead>\n",
       "  <tbody>\n",
       "    <tr>\n",
       "      <th>0</th>\n",
       "      <td>L</td>\n",
       "      <td>W</td>\n",
       "    </tr>\n",
       "    <tr>\n",
       "      <th>2</th>\n",
       "      <td>W</td>\n",
       "      <td>W</td>\n",
       "    </tr>\n",
       "    <tr>\n",
       "      <th>4</th>\n",
       "      <td>L</td>\n",
       "      <td>W</td>\n",
       "    </tr>\n",
       "    <tr>\n",
       "      <th>7</th>\n",
       "      <td>W</td>\n",
       "      <td>W</td>\n",
       "    </tr>\n",
       "    <tr>\n",
       "      <th>9</th>\n",
       "      <td>W</td>\n",
       "      <td>W</td>\n",
       "    </tr>\n",
       "  </tbody>\n",
       "</table>\n",
       "</div>"
      ],
      "text/plain": [
       "  game_result EloPrediction\n",
       "0           L             W\n",
       "2           W             W\n",
       "4           L             W\n",
       "7           W             W\n",
       "9           W             W"
      ]
     },
     "execution_count": 29,
     "metadata": {},
     "output_type": "execute_result"
    }
   ],
   "source": [
    "# Displaying the new column we just created.\n",
    "EloData[[\"game_result\", \"EloPrediction\"]].head()"
   ]
  },
  {
   "cell_type": "code",
   "execution_count": 30,
   "id": "5c36cbe1-0943-4780-86ff-525df340d593",
   "metadata": {},
   "outputs": [],
   "source": [
    "# A function that takes in a dataframe, potentially with different filters, \n",
    "# and returns the percent correct according to the ELO Model.\n",
    "def accuracy(df=EloData, field=\"EloPrediction\"):\n",
    "    return 100*len(df[df[\"game_result\"] == df[field]])/len(df)"
   ]
  },
  {
   "cell_type": "markdown",
   "id": "40f0bf13-3bd1-407b-bc09-5b45646037cb",
   "metadata": {},
   "source": [
    "Let's take an initial look at the accuracy of our model across all the game data we have:"
   ]
  },
  {
   "cell_type": "code",
   "execution_count": 31,
   "id": "b0ffbf5c-3a9d-4fcd-b6ab-ec9e4da44ba9",
   "metadata": {},
   "outputs": [],
   "source": [
    "def round_1(x, to=1):\n",
    "    return round(x,to)"
   ]
  },
  {
   "cell_type": "code",
   "execution_count": 32,
   "id": "5f4db99a-20bd-4d49-bd5f-35cae50824a5",
   "metadata": {},
   "outputs": [
    {
     "name": "stdout",
     "output_type": "stream",
     "text": [
      "68.09538135123582\n"
     ]
    }
   ],
   "source": [
    "print(accuracy(EloData))"
   ]
  },
  {
   "cell_type": "markdown",
   "id": "2c97df6f-c443-418a-b658-8c412bd8c4b3",
   "metadata": {},
   "source": [
    "67.3%! Not bad at all. Now let's do some more exploratory analysis on our ELO Model."
   ]
  },
  {
   "cell_type": "markdown",
   "id": "870681d8-1597-41c2-bd90-7ec1d74ac1c8",
   "metadata": {},
   "source": [
    "<h2> Exploratory ELO Analysis"
   ]
  },
  {
   "cell_type": "markdown",
   "id": "1eca16e2-12ec-4071-8d0d-e3db85588ab9",
   "metadata": {},
   "source": [
    "<h3> Accuracy of ELO Across Time </h3>"
   ]
  },
  {
   "cell_type": "code",
   "execution_count": 33,
   "id": "73f2d882-2851-4578-b7c4-d7054ca22459",
   "metadata": {},
   "outputs": [],
   "source": [
    "def accuracyForYear(year,df=EloData, field=\"EloPrediction\"):\n",
    "    return accuracy(df[df[\"year_id\"]==year],field)"
   ]
  },
  {
   "cell_type": "code",
   "execution_count": 34,
   "id": "ff94c81d-0b00-442b-9f5b-b295474af768",
   "metadata": {},
   "outputs": [
    {
     "name": "stdout",
     "output_type": "stream",
     "text": [
      "68.69300911854103\n"
     ]
    }
   ],
   "source": [
    "print(accuracyForYear(2008))"
   ]
  },
  {
   "cell_type": "code",
   "execution_count": 35,
   "id": "8cfe8e01-c811-4349-b1b7-a752d1feabdb",
   "metadata": {},
   "outputs": [],
   "source": [
    "def graphAccuracyAcrossRange(start, end, df=EloData, field=\"EloPrediction\", title=\"Accuracy Across Time\"):\n",
    "    years = [i for i in range(start,end)]\n",
    "    accuracyAcrossYears = [accuracyForYear(i,df,field) for i in range(start, end)]\n",
    "    colors = ['blue', 'red', 'green'];\n",
    "    fig, ax = plt.subplots();\n",
    "    ax.set_title(title)\n",
    "    ax.set_xlabel(\"Time\");\n",
    "    ax.set_ylabel(\"Accuracy\");\n",
    "    ax.scatter(x=years,y=accuracyAcrossYears)"
   ]
  },
  {
   "cell_type": "code",
   "execution_count": 36,
   "id": "9c5b666b-585a-40cc-b1d7-80c6116e14eb",
   "metadata": {},
   "outputs": [
    {
     "data": {
      "image/png": "[encoded data removed]",
      "text/plain": [
       "<Figure size 432x288 with 1 Axes>"
      ]
     },
     "metadata": {
      "needs_background": "light"
     },
     "output_type": "display_data"
    }
   ],
   "source": [
    "graphAccuracyAcrossRange(1968,2015)"
   ]
  },
  {
   "cell_type": "markdown",
   "id": "f32d4076-6b01-41ac-a921-564d9321e045",
   "metadata": {},
   "source": [
    "As you can see, the accuracy does not vary too wildly across years (It is always withn the 65%-73%), but there is definetely some variation to look at here. The graph seems to show a rise in accuracy from 1960 which peaks around 1990, and then decreases from there. The reason for this might be the variation in home-court advantage over the years. The ELO model gives a bump to the ELO of the team which has home court advantage. However, this bump is constant and does not vary by year. However, it is very possible that the value of home-court advantage as gone up and down over time. The years where ELO predicts higher accuracy could be because the home-court advantage bump is more aligned with the actual home-court advantage for that year. While, years where ELO is less accurate could be years when the ELO home court advantage bump is either too high or too low for the current year. "
   ]
  },
  {
   "cell_type": "markdown",
   "id": "e032adb5-a08e-4db4-938d-b1b9b32437e8",
   "metadata": {},
   "source": [
    "<h3> Accuracy of ELO by section of the season </h3>"
   ]
  },
  {
   "cell_type": "markdown",
   "id": "c95aaedf-3fc5-49fb-8d05-0e632db3124b",
   "metadata": {},
   "source": [
    "First, I'll clarify what I mean by section of the season. Section of the season is meant to quantify what stage of a season a particular game is in. For example, a game might be in beginning stages of a season, on might in the more middleish portion of the season, or it might be at the end portion of the season. In this section, I create a column which represents this and then see if the ELO model is more accurate depending on the stage of the season. Let's dive in."
   ]
  },
  {
   "cell_type": "code",
   "execution_count": 37,
   "id": "781f0df9-098b-434f-bf56-4f6d95299cf2",
   "metadata": {},
   "outputs": [],
   "source": [
    "# Breaking up the season into 3 bins, with 1 being the first chunk of the season \n",
    "# and 3 being the last chunk.\n",
    "EloData['sectionOfSeason'] = pd.cut(EloData.seasongame,3, labels=[\"1\",\"2\", \"3\"])"
   ]
  },
  {
   "cell_type": "code",
   "execution_count": 38,
   "id": "8a80c51a-61a5-4cc5-a5ab-29847cd35862",
   "metadata": {},
   "outputs": [],
   "source": [
    "# This function is used to compare the accuracy of the ELO model without a specific portion of the season.\n",
    "# I will use it to compare the accuracy when, for example, the beginning portion of seasons are taken out of account.\n",
    "# Then I will graph the accuracy when the section is taken out compared to the general case when all the data is used.\n",
    "def graphAccuracyWithoutSection(start, end, section=\"1\", title=\"\", should_print_flag=False):\n",
    "    years = [i for i in range(start,end)]\n",
    "    EloDataWithoutSection = EloData[EloData[\"sectionOfSeason\"] != section]\n",
    "    dfs = [EloData, EloDataWithoutSection]\n",
    "    \n",
    "    accuracyAcrossYears = [[accuracyForYear(i,df) for i in range(start, end)] for df in dfs]\n",
    "    \n",
    "    colors = ['blue', 'red', 'green'];\n",
    "    fig, ax = plt.subplots();\n",
    "    ax.set_title(\"Accuracy Across Time\")\n",
    "    ax.set_xlabel(\"Time\");\n",
    "    ax.set_ylabel(\"Accuracy\");\n",
    "    ax.set_title(title)\n",
    "    for i in range(0, len(accuracyAcrossYears)):\n",
    "        ax.scatter(x=years,y=accuracyAcrossYears[i], c=colors[i])\n",
    "    plt.show()\n",
    "    if should_print_flag:\n",
    "        print(\"Below, I performed a t-test to see how significant the change in accuracy was when I took a specific section out compared to \\nwhen all sections are included. I will talk more about the results of these t tests after the graphs.\")\n",
    "    print(st.ttest_rel(accuracyAcrossYears[0], accuracyAcrossYears[1]))"
   ]
  },
  {
   "cell_type": "markdown",
   "id": "27ceabd2-ee69-4d0d-94de-6745d902bafa",
   "metadata": {},
   "source": [
    "Below I show graphs that show the accuracy of the ELO Model when one section of the the season is removed compared to when the entire dataset is present. We were curious if the ELO model was less accurate on certain sections of the season and these graphs confirm that there might be some interesting differences in accuracy between the portions of the season."
   ]
  },
  {
   "cell_type": "code",
   "execution_count": 39,
   "id": "6a3770a5-5b54-4560-970a-315418be65e0",
   "metadata": {},
   "outputs": [
    {
     "data": {
      "image/png": "[encoded data removed]",
      "text/plain": [
       "<Figure size 432x288 with 1 Axes>"
      ]
     },
     "metadata": {
      "needs_background": "light"
     },
     "output_type": "display_data"
    },
    {
     "name": "stdout",
     "output_type": "stream",
     "text": [
      "Below, I performed a t-test to see how significant the change in accuracy was when I took a specific section out compared to \n",
      "when all sections are included. I will talk more about the results of these t tests after the graphs.\n",
      "Ttest_relResult(statistic=-2.084302568570835, pvalue=0.044950629352861246)\n"
     ]
    }
   ],
   "source": [
    "title = \"BEGINNING SECTION REMOVED\\n\\nGraphing the accuracy of the ELO Model without the beginning section of the season (In RED) vs. our ELO Model on all portions of the season (In BLUE).\"\n",
    "graphAccuracyWithoutSection(1980, 2014, section=\"1\", title=title, should_print_flag=True)\n",
    "\n"
   ]
  },
  {
   "cell_type": "code",
   "execution_count": 40,
   "id": "7f17292c-1934-4590-9ca7-f87996d7443c",
   "metadata": {},
   "outputs": [
    {
     "data": {
      "image/png": "[encoded data removed]",
      "text/plain": [
       "<Figure size 432x288 with 1 Axes>"
      ]
     },
     "metadata": {
      "needs_background": "light"
     },
     "output_type": "display_data"
    },
    {
     "name": "stdout",
     "output_type": "stream",
     "text": [
      "Ttest_relResult(statistic=2.2186920049854857, pvalue=0.033498404869079144)\n"
     ]
    }
   ],
   "source": [
    "graphAccuracyWithoutSection(1980, 2014, section=\"2\", title=\"MIDDLE SECTION REMOVED\\n\\nGraphing the accuracy of the ELO Model without the middle section of the season (In RED) vs. our ELO Model on all portions of the season (In BLUE).\")\n",
    "\n"
   ]
  },
  {
   "cell_type": "code",
   "execution_count": 41,
   "id": "c6451763-9fdd-4ebf-a48f-819daa843edd",
   "metadata": {},
   "outputs": [
    {
     "data": {
      "image/png": "[encoded data removed]",
      "text/plain": [
       "<Figure size 432x288 with 1 Axes>"
      ]
     },
     "metadata": {
      "needs_background": "light"
     },
     "output_type": "display_data"
    },
    {
     "name": "stdout",
     "output_type": "stream",
     "text": [
      "Ttest_relResult(statistic=-0.2656913593615828, pvalue=0.7921298008589254)\n"
     ]
    }
   ],
   "source": [
    "graphAccuracyWithoutSection(1980, 2014, section=\"3\", title=\"END SECTION REMOVED\\n\\nGraphing the accuracy of the ELO Model without the end section of the season (In RED) vs. our ELO Model on all portions of the season (In BLUE).\")\n",
    "\n"
   ]
  },
  {
   "cell_type": "markdown",
   "id": "1b9e6e94-7c6a-49f1-a782-5a4ad90efc29",
   "metadata": {},
   "source": [
    "<h3>Analysis and Insights: "
   ]
  },
  {
   "cell_type": "markdown",
   "id": "f3f2686c-4b45-4ad9-adda-41d5d05ecdf7",
   "metadata": {},
   "source": [
    "From the graphs, and the t-tests suport these observations, there are two important points to make: One is that the beginning section of the season is the portion of the season where ELO does worst on. We can see that from the graph, and how the red points, which represent the data without the first section of the season, are usually higher (in accuracy) than the blue points, which represents all sections. This observation is backed up by the t-test, which gives a p-value of 0.04495, which is statiscillay signifciant using a standard threshold of 0.05. The second point is that the middle section of the season is the section where the ELO model performs best on. This can be seen by the red points, which represent the data without the middle section of the season, being lower (in accuracy) than the blue points, which represents all sections. Once again, our t-test supports this with a p-value of ~0.0335 which is significant using the standard threshold of 0.05. However, when the end section of the season is removed, there isn't as much insight. The different color points don't seem to be consisnstently below or above in accuracy. Although the red points, which represent when the end section of the season is removed, are on average higher in accuracy but not to such a significant extent, and the t test also doesn't find a significant p-value here."
   ]
  },
  {
   "cell_type": "markdown",
   "id": "864a6fb2-299d-44f2-9258-2e0f70ffd53f",
   "metadata": {
    "tags": []
   },
   "source": [
    "<h2> Next Stage: Looking at Point Spreads </h2>"
   ]
  },
  {
   "cell_type": "markdown",
   "id": "b33c030a-685b-4710-882f-95473e02eef8",
   "metadata": {},
   "source": [
    "For the last couple sections, we have been analyzing ELO from the perspective of predicting wins and losses. But we can do more with ELO than just that; we can also predict point spreads for games. (point spread is the difference in final score for a particular game) From 538's <a href=\"https://fivethirtyeight.com/features/how-we-calculate-nba-elo-ratings/\"> article</a> on ELO, The formula is to simply add the home-court advantage to the home team, and then divide the difference in ELO between the two teams by 28. "
   ]
  },
  {
   "cell_type": "markdown",
   "id": "d9e8396d-e98d-42b9-9e37-9788104b2613",
   "metadata": {},
   "source": [
    "So now, let's go ahead and add the point spread as a column in our data frame. We will add our predicted point spread and then the actual point spread."
   ]
  },
  {
   "cell_type": "code",
   "execution_count": 42,
   "id": "7d8e6861-ac33-427e-9ec6-d5bcc5eccd67",
   "metadata": {},
   "outputs": [],
   "source": [
    "# Going through each game and adding the point spread as a column\n",
    "for index, row in EloData.iterrows():\n",
    "    actualPointSpread = row[\"pts\"] - row[\"opp_pts\"]\n",
    "    pointSpread538 = (row[\"elo_i\"] + 100 - row[\"opp_elo_i\"]) / 28\n",
    "    # pointSpread = (row[\"elo_home_before\"] + row[\"homeCourtELO\"] - row[\"elo_away_before\"]) / 28\n",
    "    EloData.at[index, 'pointSpread538Elo'] = pointSpread538\n",
    "    # EloData.at[index, 'pointSpreadOurELO'] = pointSpread\n",
    "    EloData.at[index, 'actualPointSpread'] = actualPointSpread"
   ]
  },
  {
   "cell_type": "markdown",
   "id": "2b7d1bf3-6732-4328-8b13-56955cc54f88",
   "metadata": {},
   "source": [
    "There, now we have point spreads! \n",
    "\n",
    "Now let's define some functions that will help us see how 538's ELO model is doing in predicting point spreads."
   ]
  },
  {
   "cell_type": "code",
   "execution_count": 43,
   "id": "88819a31-78fa-4d5b-b956-c4bc98ef5241",
   "metadata": {},
   "outputs": [],
   "source": [
    "# Function that returns the residual for the point spread for each game in a dataframe in an array.\n",
    "def pointSpreadResiduals(df=EloData, field=\"pointSpread538Elo\"):\n",
    "    error = [];\n",
    "    for idx, row in df.iterrows():\n",
    "        error.append(row[field] - row[\"actualPointSpread\"]);\n",
    "    return error"
   ]
  },
  {
   "cell_type": "code",
   "execution_count": 44,
   "id": "9693459a-83bc-4ffa-a899-e304043a16b2",
   "metadata": {},
   "outputs": [],
   "source": [
    "# Function that gets the mean squared error of our point spread prediction for a dataframe\n",
    "def pointSpreadMSE(df=EloData, field=\"pointSpread538Elo\"):\n",
    "    error = 0;\n",
    "    if len(df) == 0:\n",
    "        return None;\n",
    "    for idx, row in df.iterrows():\n",
    "        error += (row[field] - row[\"actualPointSpread\"])**2;\n",
    "    return error / len(df)"
   ]
  },
  {
   "cell_type": "code",
   "execution_count": 45,
   "id": "6a37931a-06d4-4ab9-bb7b-662269ec1ea0",
   "metadata": {},
   "outputs": [],
   "source": [
    "# Function that finds the mean squared error of our point spread prediction for a a given year\n",
    "def pointSpreadMSEForYear(year, df=EloData, field=\"pointSpread538Elo\"):\n",
    "    return pointSpreadMSE(df[df[\"year_id\"]==year],field=field)"
   ]
  },
  {
   "cell_type": "code",
   "execution_count": 46,
   "id": "e84b6e72-4518-4121-ab35-31976c17a5ca",
   "metadata": {},
   "outputs": [],
   "source": [
    "# Function that graphs the point spread MSE for a given year range\n",
    "def graphPointSpreadAcrossRange(start, end, df=EloData, fields=[\"pointSpread538Elo\"], title=\"MSE Across years for point spread with 538 ELO model\"):\n",
    "    years = [i for i in range(start,end)]\n",
    "    pointSpreadAcrossYears = [[pointSpreadMSEForYear(i, df,field) for i in range(start, end)] for field in fields]\n",
    "    colors = ['blue', 'red', 'green'];\n",
    "    fig, ax = plt.subplots();\n",
    "    ax.set_title(title)\n",
    "    ax.set_xlabel(\"Time\");\n",
    "    ax.set_ylabel(\"Absolute Error of Point Spread\");\n",
    "    for i in range(0, len(pointSpreadAcrossYears)):\n",
    "        ax.scatter(x=years,y=pointSpreadAcrossYears[i], c=colors[i])\n",
    "    plt.show()"
   ]
  },
  {
   "cell_type": "markdown",
   "id": "3979bfb1-293f-42d8-a2d4-3dfb805e3ab4",
   "metadata": {},
   "source": [
    "Let's see what the Mean Squared Error is for the ELO model across all games:"
   ]
  },
  {
   "cell_type": "code",
   "execution_count": 47,
   "id": "004318f8-dc0e-4524-8dba-2b83b816970b",
   "metadata": {},
   "outputs": [
    {
     "data": {
      "text/plain": [
       "137.12658385489016"
      ]
     },
     "execution_count": 47,
     "metadata": {},
     "output_type": "execute_result"
    }
   ],
   "source": [
    "pointSpreadMSE()"
   ]
  },
  {
   "cell_type": "markdown",
   "id": "59f0e67a-1ddb-49a9-b359-9c7ad57fe384",
   "metadata": {},
   "source": [
    "Now let's look at how the MSE varies across years"
   ]
  },
  {
   "cell_type": "code",
   "execution_count": 48,
   "id": "e12f560c-30c4-457d-b751-4d8cebb5cd6b",
   "metadata": {},
   "outputs": [
    {
     "data": {
      "image/png": "[encoded data removed]",
      "text/plain": [
       "<Figure size 432x288 with 1 Axes>"
      ]
     },
     "metadata": {
      "needs_background": "light"
     },
     "output_type": "display_data"
    }
   ],
   "source": [
    "graphPointSpreadAcrossRange(1947,2012, fields=[\"pointSpread538Elo\"])"
   ]
  },
  {
   "cell_type": "markdown",
   "id": "e1965f6c-6da1-4707-9225-c2246804d660",
   "metadata": {},
   "source": [
    "So it looks like the MSE definetely varies some from year to year,but mostly stays in the same general range. Let's look at the distribution of the residuals of our models across years...using a violin plot!"
   ]
  },
  {
   "cell_type": "code",
   "execution_count": 49,
   "id": "1a74f4d4-1c86-4e7a-a4c1-a678c6c3e190",
   "metadata": {},
   "outputs": [
    {
     "data": {
      "text/html": [
       "<div>\n",
       "<style scoped>\n",
       "    .dataframe tbody tr th:only-of-type {\n",
       "        vertical-align: middle;\n",
       "    }\n",
       "\n",
       "    .dataframe tbody tr th {\n",
       "        vertical-align: top;\n",
       "    }\n",
       "\n",
       "    .dataframe thead th {\n",
       "        text-align: right;\n",
       "    }\n",
       "</style>\n",
       "<table border=\"1\" class=\"dataframe\">\n",
       "  <thead>\n",
       "    <tr style=\"text-align: right;\">\n",
       "      <th></th>\n",
       "      <th>gameorder</th>\n",
       "      <th>game_id</th>\n",
       "      <th>lg_id</th>\n",
       "      <th>_iscopy</th>\n",
       "      <th>year_id</th>\n",
       "      <th>date_game</th>\n",
       "      <th>seasongame</th>\n",
       "      <th>is_playoffs</th>\n",
       "      <th>team_id</th>\n",
       "      <th>fran_id</th>\n",
       "      <th>...</th>\n",
       "      <th>opp_elo_i</th>\n",
       "      <th>opp_elo_n</th>\n",
       "      <th>game_location</th>\n",
       "      <th>game_result</th>\n",
       "      <th>forecast</th>\n",
       "      <th>notes</th>\n",
       "      <th>EloPrediction</th>\n",
       "      <th>sectionOfSeason</th>\n",
       "      <th>pointSpread538Elo</th>\n",
       "      <th>actualPointSpread</th>\n",
       "    </tr>\n",
       "  </thead>\n",
       "  <tbody>\n",
       "    <tr>\n",
       "      <th>0</th>\n",
       "      <td>1</td>\n",
       "      <td>194611010TRH</td>\n",
       "      <td>NBA</td>\n",
       "      <td>0</td>\n",
       "      <td>1947</td>\n",
       "      <td>11/1/1946</td>\n",
       "      <td>1</td>\n",
       "      <td>0</td>\n",
       "      <td>TRH</td>\n",
       "      <td>Huskies</td>\n",
       "      <td>...</td>\n",
       "      <td>1300.0000</td>\n",
       "      <td>1306.7233</td>\n",
       "      <td>H</td>\n",
       "      <td>L</td>\n",
       "      <td>0.640065</td>\n",
       "      <td>NaN</td>\n",
       "      <td>W</td>\n",
       "      <td>1</td>\n",
       "      <td>3.571429</td>\n",
       "      <td>-2.0</td>\n",
       "    </tr>\n",
       "    <tr>\n",
       "      <th>2</th>\n",
       "      <td>2</td>\n",
       "      <td>194611020CHS</td>\n",
       "      <td>NBA</td>\n",
       "      <td>0</td>\n",
       "      <td>1947</td>\n",
       "      <td>11/2/1946</td>\n",
       "      <td>1</td>\n",
       "      <td>0</td>\n",
       "      <td>CHS</td>\n",
       "      <td>Stags</td>\n",
       "      <td>...</td>\n",
       "      <td>1306.7233</td>\n",
       "      <td>1297.0712</td>\n",
       "      <td>H</td>\n",
       "      <td>W</td>\n",
       "      <td>0.631101</td>\n",
       "      <td>NaN</td>\n",
       "      <td>W</td>\n",
       "      <td>1</td>\n",
       "      <td>3.331311</td>\n",
       "      <td>16.0</td>\n",
       "    </tr>\n",
       "    <tr>\n",
       "      <th>4</th>\n",
       "      <td>3</td>\n",
       "      <td>194611020DTF</td>\n",
       "      <td>NBA</td>\n",
       "      <td>0</td>\n",
       "      <td>1947</td>\n",
       "      <td>11/2/1946</td>\n",
       "      <td>1</td>\n",
       "      <td>0</td>\n",
       "      <td>DTF</td>\n",
       "      <td>Falcons</td>\n",
       "      <td>...</td>\n",
       "      <td>1300.0000</td>\n",
       "      <td>1320.3811</td>\n",
       "      <td>H</td>\n",
       "      <td>L</td>\n",
       "      <td>0.640065</td>\n",
       "      <td>NaN</td>\n",
       "      <td>W</td>\n",
       "      <td>1</td>\n",
       "      <td>3.571429</td>\n",
       "      <td>-17.0</td>\n",
       "    </tr>\n",
       "    <tr>\n",
       "      <th>7</th>\n",
       "      <td>4</td>\n",
       "      <td>194611020PRO</td>\n",
       "      <td>NBA</td>\n",
       "      <td>0</td>\n",
       "      <td>1947</td>\n",
       "      <td>11/2/1946</td>\n",
       "      <td>1</td>\n",
       "      <td>0</td>\n",
       "      <td>PRO</td>\n",
       "      <td>Steamrollers</td>\n",
       "      <td>...</td>\n",
       "      <td>1300.0000</td>\n",
       "      <td>1294.8458</td>\n",
       "      <td>H</td>\n",
       "      <td>W</td>\n",
       "      <td>0.640065</td>\n",
       "      <td>NaN</td>\n",
       "      <td>W</td>\n",
       "      <td>1</td>\n",
       "      <td>3.571429</td>\n",
       "      <td>6.0</td>\n",
       "    </tr>\n",
       "    <tr>\n",
       "      <th>9</th>\n",
       "      <td>5</td>\n",
       "      <td>194611020STB</td>\n",
       "      <td>NBA</td>\n",
       "      <td>0</td>\n",
       "      <td>1947</td>\n",
       "      <td>11/2/1946</td>\n",
       "      <td>1</td>\n",
       "      <td>0</td>\n",
       "      <td>STB</td>\n",
       "      <td>Bombers</td>\n",
       "      <td>...</td>\n",
       "      <td>1300.0000</td>\n",
       "      <td>1295.3092</td>\n",
       "      <td>H</td>\n",
       "      <td>W</td>\n",
       "      <td>0.640065</td>\n",
       "      <td>NaN</td>\n",
       "      <td>W</td>\n",
       "      <td>1</td>\n",
       "      <td>3.571429</td>\n",
       "      <td>5.0</td>\n",
       "    </tr>\n",
       "    <tr>\n",
       "      <th>...</th>\n",
       "      <td>...</td>\n",
       "      <td>...</td>\n",
       "      <td>...</td>\n",
       "      <td>...</td>\n",
       "      <td>...</td>\n",
       "      <td>...</td>\n",
       "      <td>...</td>\n",
       "      <td>...</td>\n",
       "      <td>...</td>\n",
       "      <td>...</td>\n",
       "      <td>...</td>\n",
       "      <td>...</td>\n",
       "      <td>...</td>\n",
       "      <td>...</td>\n",
       "      <td>...</td>\n",
       "      <td>...</td>\n",
       "      <td>...</td>\n",
       "      <td>...</td>\n",
       "      <td>...</td>\n",
       "      <td>...</td>\n",
       "      <td>...</td>\n",
       "    </tr>\n",
       "    <tr>\n",
       "      <th>126305</th>\n",
       "      <td>63153</td>\n",
       "      <td>201506070GSW</td>\n",
       "      <td>NBA</td>\n",
       "      <td>0</td>\n",
       "      <td>2015</td>\n",
       "      <td>6/7/2015</td>\n",
       "      <td>99</td>\n",
       "      <td>1</td>\n",
       "      <td>GSW</td>\n",
       "      <td>Warriors</td>\n",
       "      <td>...</td>\n",
       "      <td>1708.1705</td>\n",
       "      <td>1716.8708</td>\n",
       "      <td>H</td>\n",
       "      <td>L</td>\n",
       "      <td>0.757674</td>\n",
       "      <td>NaN</td>\n",
       "      <td>W</td>\n",
       "      <td>3</td>\n",
       "      <td>7.072607</td>\n",
       "      <td>-2.0</td>\n",
       "    </tr>\n",
       "    <tr>\n",
       "      <th>126307</th>\n",
       "      <td>63154</td>\n",
       "      <td>201506090CLE</td>\n",
       "      <td>NBA</td>\n",
       "      <td>0</td>\n",
       "      <td>2015</td>\n",
       "      <td>6/9/2015</td>\n",
       "      <td>99</td>\n",
       "      <td>1</td>\n",
       "      <td>CLE</td>\n",
       "      <td>Cavaliers</td>\n",
       "      <td>...</td>\n",
       "      <td>1797.5032</td>\n",
       "      <td>1790.9591</td>\n",
       "      <td>H</td>\n",
       "      <td>W</td>\n",
       "      <td>0.527843</td>\n",
       "      <td>NaN</td>\n",
       "      <td>W</td>\n",
       "      <td>3</td>\n",
       "      <td>0.691700</td>\n",
       "      <td>5.0</td>\n",
       "    </tr>\n",
       "    <tr>\n",
       "      <th>126309</th>\n",
       "      <td>63155</td>\n",
       "      <td>201506110CLE</td>\n",
       "      <td>NBA</td>\n",
       "      <td>0</td>\n",
       "      <td>2015</td>\n",
       "      <td>6/11/2015</td>\n",
       "      <td>100</td>\n",
       "      <td>1</td>\n",
       "      <td>CLE</td>\n",
       "      <td>Cavaliers</td>\n",
       "      <td>...</td>\n",
       "      <td>1790.9591</td>\n",
       "      <td>1809.9791</td>\n",
       "      <td>H</td>\n",
       "      <td>L</td>\n",
       "      <td>0.546572</td>\n",
       "      <td>NaN</td>\n",
       "      <td>W</td>\n",
       "      <td>3</td>\n",
       "      <td>1.159136</td>\n",
       "      <td>-21.0</td>\n",
       "    </tr>\n",
       "    <tr>\n",
       "      <th>126310</th>\n",
       "      <td>63156</td>\n",
       "      <td>201506140GSW</td>\n",
       "      <td>NBA</td>\n",
       "      <td>0</td>\n",
       "      <td>2015</td>\n",
       "      <td>6/14/2015</td>\n",
       "      <td>102</td>\n",
       "      <td>1</td>\n",
       "      <td>GSW</td>\n",
       "      <td>Warriors</td>\n",
       "      <td>...</td>\n",
       "      <td>1704.3949</td>\n",
       "      <td>1700.7391</td>\n",
       "      <td>H</td>\n",
       "      <td>W</td>\n",
       "      <td>0.765565</td>\n",
       "      <td>NaN</td>\n",
       "      <td>W</td>\n",
       "      <td>3</td>\n",
       "      <td>7.342293</td>\n",
       "      <td>13.0</td>\n",
       "    </tr>\n",
       "    <tr>\n",
       "      <th>126312</th>\n",
       "      <td>63157</td>\n",
       "      <td>201506170CLE</td>\n",
       "      <td>NBA</td>\n",
       "      <td>0</td>\n",
       "      <td>2015</td>\n",
       "      <td>6/16/2015</td>\n",
       "      <td>102</td>\n",
       "      <td>1</td>\n",
       "      <td>CLE</td>\n",
       "      <td>Cavaliers</td>\n",
       "      <td>...</td>\n",
       "      <td>1813.6349</td>\n",
       "      <td>1822.2881</td>\n",
       "      <td>H</td>\n",
       "      <td>L</td>\n",
       "      <td>0.481450</td>\n",
       "      <td>NaN</td>\n",
       "      <td>L</td>\n",
       "      <td>3</td>\n",
       "      <td>-0.460564</td>\n",
       "      <td>-8.0</td>\n",
       "    </tr>\n",
       "  </tbody>\n",
       "</table>\n",
       "<p>63157 rows × 27 columns</p>\n",
       "</div>"
      ],
      "text/plain": [
       "        gameorder       game_id lg_id  _iscopy  year_id  date_game  \\\n",
       "0               1  194611010TRH   NBA        0     1947  11/1/1946   \n",
       "2               2  194611020CHS   NBA        0     1947  11/2/1946   \n",
       "4               3  194611020DTF   NBA        0     1947  11/2/1946   \n",
       "7               4  194611020PRO   NBA        0     1947  11/2/1946   \n",
       "9               5  194611020STB   NBA        0     1947  11/2/1946   \n",
       "...           ...           ...   ...      ...      ...        ...   \n",
       "126305      63153  201506070GSW   NBA        0     2015   6/7/2015   \n",
       "126307      63154  201506090CLE   NBA        0     2015   6/9/2015   \n",
       "126309      63155  201506110CLE   NBA        0     2015  6/11/2015   \n",
       "126310      63156  201506140GSW   NBA        0     2015  6/14/2015   \n",
       "126312      63157  201506170CLE   NBA        0     2015  6/16/2015   \n",
       "\n",
       "        seasongame  is_playoffs team_id       fran_id  ...  opp_elo_i  \\\n",
       "0                1            0     TRH       Huskies  ...  1300.0000   \n",
       "2                1            0     CHS         Stags  ...  1306.7233   \n",
       "4                1            0     DTF       Falcons  ...  1300.0000   \n",
       "7                1            0     PRO  Steamrollers  ...  1300.0000   \n",
       "9                1            0     STB       Bombers  ...  1300.0000   \n",
       "...            ...          ...     ...           ...  ...        ...   \n",
       "126305          99            1     GSW      Warriors  ...  1708.1705   \n",
       "126307          99            1     CLE     Cavaliers  ...  1797.5032   \n",
       "126309         100            1     CLE     Cavaliers  ...  1790.9591   \n",
       "126310         102            1     GSW      Warriors  ...  1704.3949   \n",
       "126312         102            1     CLE     Cavaliers  ...  1813.6349   \n",
       "\n",
       "        opp_elo_n  game_location  game_result  forecast notes  EloPrediction  \\\n",
       "0       1306.7233              H            L  0.640065   NaN              W   \n",
       "2       1297.0712              H            W  0.631101   NaN              W   \n",
       "4       1320.3811              H            L  0.640065   NaN              W   \n",
       "7       1294.8458              H            W  0.640065   NaN              W   \n",
       "9       1295.3092              H            W  0.640065   NaN              W   \n",
       "...           ...            ...          ...       ...   ...            ...   \n",
       "126305  1716.8708              H            L  0.757674   NaN              W   \n",
       "126307  1790.9591              H            W  0.527843   NaN              W   \n",
       "126309  1809.9791              H            L  0.546572   NaN              W   \n",
       "126310  1700.7391              H            W  0.765565   NaN              W   \n",
       "126312  1822.2881              H            L  0.481450   NaN              L   \n",
       "\n",
       "        sectionOfSeason  pointSpread538Elo actualPointSpread  \n",
       "0                     1           3.571429              -2.0  \n",
       "2                     1           3.331311              16.0  \n",
       "4                     1           3.571429             -17.0  \n",
       "7                     1           3.571429               6.0  \n",
       "9                     1           3.571429               5.0  \n",
       "...                 ...                ...               ...  \n",
       "126305                3           7.072607              -2.0  \n",
       "126307                3           0.691700               5.0  \n",
       "126309                3           1.159136             -21.0  \n",
       "126310                3           7.342293              13.0  \n",
       "126312                3          -0.460564              -8.0  \n",
       "\n",
       "[63157 rows x 27 columns]"
      ]
     },
     "execution_count": 49,
     "metadata": {},
     "output_type": "execute_result"
    }
   ],
   "source": [
    "EloData"
   ]
  },
  {
   "cell_type": "code",
   "execution_count": 50,
   "id": "e9aba89c-7d7c-4d38-a4f4-7c1fe86e52ad",
   "metadata": {},
   "outputs": [],
   "source": [
    "# First we create a list of lists seperated by year\n",
    "def groupDataByYear(df=EloData, start=1948, end=2015):\n",
    "    allYears = [year for year in range(start, end+1,4)]\n",
    "    groupedData = [];\n",
    "    dfsByYear = [df[df[\"year_id\"]==year] for year in allYears]\n",
    "    for df in dfsByYear:\n",
    "        groupedData.append(pointSpreadResiduals(df));\n",
    "    return (allYears,groupedData)"
   ]
  },
  {
   "cell_type": "code",
   "execution_count": 51,
   "id": "32cb7565-8e99-4f2f-a730-ba8ff9c17282",
   "metadata": {},
   "outputs": [],
   "source": [
    "residualsByYear = groupDataByYear()"
   ]
  },
  {
   "cell_type": "code",
   "execution_count": 52,
   "id": "fc1afc3f-f973-453e-828a-7ed1a0a1abde",
   "metadata": {},
   "outputs": [],
   "source": [
    "def displayViolinPlot(dataByField, fields, xLabel, yLabel, title):\n",
    "    fig, ax = plt.subplots()\n",
    "    ax.violinplot(dataByField,fields,widths=4,showmeans=True)\n",
    "    ax.set_xlabel(xLabel)\n",
    "    ax.set_ylabel(yLabel)\n",
    "    ax.set_title(title)\n",
    "    fig.set_figwidth(15)\n",
    "    plt.show()"
   ]
  },
  {
   "cell_type": "code",
   "execution_count": 53,
   "id": "b49f05ff-c3b5-4064-a854-9f212cbd598a",
   "metadata": {},
   "outputs": [
    {
     "data": {
      "image/png": "[encoded data removed]",
      "text/plain": [
       "<Figure size 1080x288 with 1 Axes>"
      ]
     },
     "metadata": {
      "needs_background": "light"
     },
     "output_type": "display_data"
    }
   ],
   "source": [
    "displayViolinPlot(residualsByYear[1], residualsByYear[0], \"years\", \"resisduals\", \"residuals\")"
   ]
  },
  {
   "cell_type": "markdown",
   "id": "1c95e3df-4bfd-457b-a82c-c5fe4f7e89a9",
   "metadata": {},
   "source": [
    "Okay, so there doesn't seem to be much skew to one side or the other, indicating that our model is guess wrong in both directions a roughly equal amount. Let's look at one more thing: Residuals for different sections of the season. (Sections meaning the same thing from what we discussed earlier. e.g. the begginning of the season is one section of the season.)"
   ]
  },
  {
   "cell_type": "code",
   "execution_count": 54,
   "id": "bc400ee1-ff8e-411f-b4b5-2efff19b42a5",
   "metadata": {},
   "outputs": [],
   "source": [
    "# Function to create a graph that shows each section of the season as a different color and displays the MSE across years.\n",
    "def graphMSEBySection(start, end, title=\"BLUE=Beginning Section; RED=Middle Section; GREEN=End Section \\nMSE of ELO model for point spreads across years\"):\n",
    "    years = [i for i in range(start,end)]\n",
    "    sections = [\"1\", \"2\", \"3\"];\n",
    "    # creating 3 datasets, one for each section.\n",
    "    EloDataForSections = [EloData[EloData[\"sectionOfSeason\"] == section] for section in sections]\n",
    "    \n",
    "    # calculating the MSE for each year, for each section seperately.\n",
    "    residualsAcrossYears = [[pointSpreadMSEForYear(i,df) for i in range(start, end)] for df in EloDataForSections]\n",
    "    \n",
    "    colors = ['blue', 'red', 'green'];\n",
    "    fig, ax = plt.subplots();\n",
    "    ax.set_xlabel(\"Time\");\n",
    "    ax.set_ylabel(\"MSE\");\n",
    "    ax.set_title(title)\n",
    "    for i in range(0, len(residualsAcrossYears)):\n",
    "        ax.scatter(x=years,y=residualsAcrossYears[i], c=colors[i])\n",
    "    plt.show()"
   ]
  },
  {
   "cell_type": "code",
   "execution_count": 55,
   "id": "2eb6cff5-a58b-4d6e-9d27-eb12fd1fee22",
   "metadata": {},
   "outputs": [
    {
     "data": {
      "image/png": "[encoded data removed]",
      "text/plain": [
       "<Figure size 432x288 with 1 Axes>"
      ]
     },
     "metadata": {
      "needs_background": "light"
     },
     "output_type": "display_data"
    }
   ],
   "source": [
    "graphMSEBySection(1950,2014)"
   ]
  },
  {
   "cell_type": "markdown",
   "id": "f4f125af-964c-48b6-83ba-dbf2f30b1ee3",
   "metadata": {},
   "source": [
    "It doesn't look like there is the same differences across sections that we found when looking at ELO's accuracy on just wins and losses. One section does not seem to be consistently better than the others. Let's look at a bar graph displaying the error for each section to confirm."
   ]
  },
  {
   "cell_type": "code",
   "execution_count": 56,
   "id": "b9fda27d-3083-4a89-98e9-9331c39e2b7c",
   "metadata": {},
   "outputs": [
    {
     "data": {
      "image/png": "[encoded data removed]",
      "text/plain": [
       "<Figure size 432x288 with 1 Axes>"
      ]
     },
     "metadata": {
      "needs_background": "light"
     },
     "output_type": "display_data"
    },
    {
     "name": "stdout",
     "output_type": "stream",
     "text": [
      "\n",
      "MSE For section #1:140.23300283961322\n",
      "MSE For section #2:133.49505817367736\n",
      "MSE For section #3:138.307263713281\n"
     ]
    }
   ],
   "source": [
    "import matplotlib.pyplot as plt\n",
    "fig = plt.figure()\n",
    "ax = fig.add_axes([0,0,1,1])\n",
    "sections = ['Section #1', 'Section #2', 'Section #3']\n",
    "MSEs = [pointSpreadMSE(EloData[EloData[\"sectionOfSeason\"]==str(i)]) for i in range(1,4)]\n",
    "ax.bar(sections,MSEs)\n",
    "ax.set_ylabel(\"MSE\");\n",
    "plt.show()\n",
    "print(\"\\nMSE For section #1:\" + str(MSEs[0]))\n",
    "print(\"MSE For section #2:\" + str(MSEs[1]))\n",
    "print(\"MSE For section #3:\" + str(MSEs[2]))"
   ]
  },
  {
   "cell_type": "markdown",
   "id": "58634115-9832-403c-a69d-44d4c7fd962f",
   "metadata": {},
   "source": [
    "The bar graph tells a little bit of a different story. It seem like Section 2 is a touch better than section 1 and 2 with the MSE being 133.49 while section 3 is 138.3 and section 1 is 140.23. So there is a similar effect going on to what we saw previously where the ELO model was just predicting wins and losses and it performed best on section 2 and worse on section 1 and 3. Let's run some t-tests to test this hypothesis."
   ]
  },
  {
   "cell_type": "code",
   "execution_count": 57,
   "id": "a2a18347-71ee-41e0-94a8-99346ad8c585",
   "metadata": {},
   "outputs": [],
   "source": [
    "years = [i for i in range(1948,2014) if i != 1999]\n",
    "sections = [\"1\", \"2\", \"3\"];\n",
    "# creating 3 datasets, one for each section.\n",
    "EloDataForSections = [EloData[EloData[\"sectionOfSeason\"] == section] for section in sections]\n",
    "\n",
    "# calculating the MSE for each year, for each section seperately.\n",
    "residualsAcrossYears = [[pointSpreadMSEForYear(i,df) for i in range(1950, 2014) if i != 1999] for df in EloDataForSections]\n",
    "residualsAcrossYears[2] = [el for el in residualsAcrossYears[2] if el != None]"
   ]
  },
  {
   "cell_type": "markdown",
   "id": "6e8ae416-e8dc-4d01-9ae5-19cef21af346",
   "metadata": {},
   "source": [
    "T Test between sections 1 and 2:"
   ]
  },
  {
   "cell_type": "code",
   "execution_count": 58,
   "id": "a86e60f6-901a-424b-a171-37c9789453e8",
   "metadata": {},
   "outputs": [
    {
     "name": "stdout",
     "output_type": "stream",
     "text": [
      "Ttest_relResult(statistic=2.5726572016849842, pvalue=0.01250021462635613)\n"
     ]
    }
   ],
   "source": [
    "print(st.ttest_rel(residualsAcrossYears[0], residualsAcrossYears[1]))"
   ]
  },
  {
   "cell_type": "markdown",
   "id": "c42cdee4-2e2b-4af5-af6d-e8cb8b503f89",
   "metadata": {},
   "source": [
    "T Test between sections 1 and 3:"
   ]
  },
  {
   "cell_type": "code",
   "execution_count": 59,
   "id": "27be7548-7127-432c-9a81-5bd06f74cd18",
   "metadata": {},
   "outputs": [
    {
     "name": "stdout",
     "output_type": "stream",
     "text": [
      "Ttest_relResult(statistic=1.1902449727941031, pvalue=0.23848770140918774)\n"
     ]
    }
   ],
   "source": [
    "print(st.ttest_rel(residualsAcrossYears[0], residualsAcrossYears[2]))"
   ]
  },
  {
   "cell_type": "markdown",
   "id": "f0b020cd-2046-43ec-9603-ffb66b7d193c",
   "metadata": {},
   "source": [
    "T Test between sections 2 and 3:"
   ]
  },
  {
   "cell_type": "code",
   "execution_count": 60,
   "id": "1afc1679-828f-40d6-acbe-6a8365e9bd1e",
   "metadata": {},
   "outputs": [
    {
     "name": "stdout",
     "output_type": "stream",
     "text": [
      "Ttest_relResult(statistic=-0.12731798106421152, pvalue=0.8991007678744161)\n"
     ]
    }
   ],
   "source": [
    "print(st.ttest_rel(residualsAcrossYears[1], residualsAcrossYears[2]))"
   ]
  },
  {
   "cell_type": "markdown",
   "id": "6850699e-5538-47de-ad25-26e140c6e515",
   "metadata": {},
   "source": [
    "From the T-tests above, we see that the only statistically significant difference (with a threshold of 0.05) was between Section 1 and Section 2. Besides that, the other comparisons are not very significant. This shows that the claim that the ELO Model is better at predicting section 2 of the season compared to section 1 is strong. "
   ]
  },
  {
   "cell_type": "code",
   "execution_count": 61,
   "id": "ba7209a5-6e3f-45f8-9d31-79cfdfb75277",
   "metadata": {},
   "outputs": [],
   "source": [
    "# def groupDataBySectionOfSeason(df=EloData):\n",
    "#     sections = [1,2,3]\n",
    "#     groupedData = [];\n",
    "#     dfsByPlayoff = [df[df[\"sectionOfSeason\"]==str(i)] for i in sections]\n",
    "#     for df in dfsByPlayoff:\n",
    "#         groupedData.append(pointSpreadResiduals(df));\n",
    "#     return (sections, groupedData)"
   ]
  },
  {
   "cell_type": "code",
   "execution_count": 62,
   "id": "9caa54b4-c6ff-410d-a645-3bff5130935a",
   "metadata": {},
   "outputs": [],
   "source": [
    "# residualsBySection = groupDataBySectionOfSeason()"
   ]
  },
  {
   "cell_type": "code",
   "execution_count": 63,
   "id": "8cc5a48d-78fb-4ab8-946c-d8ba9d7aaf78",
   "metadata": {},
   "outputs": [],
   "source": [
    "# displayViolinPlot(residualsBySection[1], residualsBySection[0], \"years\", \"resisduals\", \"residuals\")"
   ]
  },
  {
   "cell_type": "code",
   "execution_count": 64,
   "id": "ec6c2175-ba82-4dea-ae3c-4fe85dfec497",
   "metadata": {},
   "outputs": [],
   "source": [
    "# def set_axis_style(ax, labels):\n",
    "#     ax.xaxis.set_tick_params(direction='out')\n",
    "#     ax.xaxis.set_ticks_position('bottom')\n",
    "#     ax.set_xticks(np.arange(1, len(labels) + 1), labels=labels)\n",
    "#     ax.set_xlim(0.25, len(labels) + 0.75)\n",
    "#     # ax.set_xlabel('Model residuals grouped by continent continent')\n",
    "#     ax.set_ylabel('Model residuals')\n",
    "#     ax.set_title('Model residuals grouped by playoff vs. non-playoff')"
   ]
  },
  {
   "cell_type": "code",
   "execution_count": 65,
   "id": "e1c04b9a-1e9b-4004-9c2f-5a4672c5dca3",
   "metadata": {},
   "outputs": [],
   "source": [
    "# fig, ax = plt.subplots()\n",
    "# ax.violinplot(residualsByPlayoff[1])\n",
    "# set_axis_style(ax, residualsByPlayoff[0])\n",
    "# plt.show()"
   ]
  },
  {
   "cell_type": "markdown",
   "id": "d984e8cf-cfe1-4263-8405-86073a8430f1",
   "metadata": {
    "tags": []
   },
   "source": [
    "<h2>Next Steps: Modifying the ELO algorithm</h2>"
   ]
  },
  {
   "cell_type": "markdown",
   "id": "63ab0b4b-0ffc-479f-8b02-1a3f458b78ab",
   "metadata": {},
   "source": [
    "Now that we have done some analysis on 538's ELO Model, it is time to take ELO into our own hands! In this section, we will recreate 538's ELO algorithm to the best degree that we can, and then tweek it to find new insights and potentially build a more accurate model."
   ]
  },
  {
   "cell_type": "markdown",
   "id": "5390125b-1b52-47ec-87d6-d00243814273",
   "metadata": {},
   "source": [
    "I was lucky enough to find a great article (which links to some python code) which recreates 538's ELO Model. There seems to be some difference between the constants in the article,(that we will use) and the constants that 538 uses. If you are interested: Here is a link to the article: https://www.ergosum.co/nate-silvers-nba-elo-algorithm/?fbclid=IwAR17CIiR8VywvSAKM97KRaUF8kqH89duReYsp0wY191WazCY0vv4rEo3Cgc."
   ]
  },
  {
   "cell_type": "markdown",
   "id": "b7073329-abdd-4fca-9c7f-527e6515f2cc",
   "metadata": {},
   "source": [
    "I modified the originial code in order to get the ELO after each game and place it in a pandas dataframe while the originial code only saved the final ELO of each team. (Link to code: https://github.com/rogerfitz/tutorials/blob/master/Nate%20Silver%20ELO/NBA%20ELO%20Replicate.ipynb)\n",
    "\n",
    "\n",
    "<h4> Defining some key terms in ELO</h4>\n",
    "In order to make the ELO creation code more readible, I think its important to first clarify a few constants that ELO uses to update its ratings. Below is a screen shot from the article I found which does a good job explaining the terms. Note that Nate refers to Nate Silver, the founder of 538 and also that MOV refers to the winner's score minus the loser's score.\n",
    "<img src=\"eloExplained.png\"></img>\n",
    "\n",
    "\n",
    "It's okay if you don't totally understand the math formulas above, as long as its clear that the goal is to recreate the ELO rating from 538."
   ]
  },
  {
   "cell_type": "code",
   "execution_count": 66,
   "id": "fa4122c6-89a6-443a-afe2-770f08f2a238",
   "metadata": {},
   "outputs": [],
   "source": [
    "# Creating the SEASON column\n",
    "EloData['SEASON']=EloData['year_id'].apply(lambda x: \"%s-%s\"%(x-1,x))"
   ]
  },
  {
   "cell_type": "markdown",
   "id": "97470a32-05a9-424d-8cf9-2e14c0846f37",
   "metadata": {},
   "source": [
    "After reimporting the data, below is key code to recreate ELO based on 538:"
   ]
  },
  {
   "cell_type": "code",
   "execution_count": 67,
   "id": "2a7d3131-7fe4-49ba-9d4d-5e6dc7b07fb6",
   "metadata": {},
   "outputs": [],
   "source": [
    "# This function takes in the difference, home_team_points - away_team_points, \n",
    "# and the elo difference between these two teams and uses it to create the \n",
    "# K value which determines how much to update each team's ratings after games.\n",
    "def silverK(MOV, elo_diff):\n",
    "    K_0=20\n",
    "    if MOV>0:\n",
    "        multiplier=(MOV+3)**(0.8)/(7.5+0.006*(elo_diff))\n",
    "    else:\n",
    "        multiplier=(-MOV+3)**(0.8)/(7.5+0.006*(-elo_diff))\n",
    "    return K_0*multiplier,K_0*multiplier\n",
    "\n",
    "# This function takes in the home team score and away team score and returns (1,0) \n",
    "# if home wins, (0,1) if away wins and (0.5,0.5) for a tie\n",
    "def silverS(home_score, away_score):\n",
    "    S_home,S_away=0,0\n",
    "    if home_score>away_score:\n",
    "        S_home=1\n",
    "    elif away_score>home_score:\n",
    "        S_away=1\n",
    "    else:\n",
    "        S_home,S_away=.5,.5\n",
    "    return S_home,S_away\n",
    "\n",
    "\n",
    "# This function takes in the home and away score, and their elo ratings, and uses it \n",
    "# to return the update to each team's ratings based on their current ratings and \n",
    "# the home court advantage.\n",
    "def silver_elo_update(home_score, away_score, home_rating, away_rating, HOME_AD=100):\n",
    "    home_rating+=HOME_AD\n",
    "    E_home = elo_prediction(home_rating,away_rating, HOME_AD)\n",
    "    E_away=1-E_home\n",
    "    elo_diff=home_rating-away_rating\n",
    "    MOV=home_score-away_score\n",
    "    \n",
    "    S_home,S_away = silverS(home_score,away_score)\n",
    "    if S_home>0:\n",
    "        K_home,K_away =  silverK(MOV,elo_diff)\n",
    "    else:\n",
    "        K_home,K_away =  silverK(MOV,elo_diff)\n",
    "        \n",
    "    return K_home*(S_home-E_home),K_away*(S_away-E_away)\n",
    "\n",
    "# This function uses the team's ratings to return the expected chance that the home team will win. \n",
    "# This follows the same process as is defined in the screen shot above.\n",
    "def elo_prediction(home_rating,away_rating, HOME_AD=100):\n",
    "    home_rating+=HOME_AD;\n",
    "    E_home = 1./(1 + 10 ** ((away_rating - home_rating) / (400.)))\n",
    "    return E_home\n",
    "\n",
    "\n",
    "# Takes in a the team's ratings and produces a prediction of the spread (difference in points between the two teams).\n",
    "def score_prediction(home_rating,away_rating):\n",
    "    return (home_rating-away_rating)/28.\n",
    "\n",
    "# This function takes in a franchise id and the gameorder and returns the elo rating from the originial 538 rating table.\n",
    "def elo_lookup(fran_id,gameorder):\n",
    "    return EloData[(EloData['fran_id']==fran_id)&(EloData['gameorder']>=gameorder)]['elo_i'].iloc[0]\n",
    "\n",
    "\n",
    "class HeadToHeadModel(object):\n",
    "    def __init__(self, events,data, update_function, prediction_function=None):\n",
    "        self.update_function=update_function\n",
    "        self.events=events\n",
    "        self.data=data\n",
    "        self.ratings={}\n",
    "        self.prediction_function = prediction_function\n",
    "        self.predictions = []\n",
    "        self.curr_season=defaultdict(lambda: EloData.iloc[0][\"year_id\"])\n",
    "\n",
    "# This function loops through all the games in the dataframe and updates the ELO ratings after each game.\n",
    "    def train(self):\n",
    "        for idx, event in self.data.iterrows():\n",
    "            new_year=event['year_id']\n",
    "            label_i=event['fran_id']\n",
    "            label_j=event['opp_fran']\n",
    "            \n",
    "            # if the home team has not been seen by our loop yet\n",
    "            if self.ratings.get(label_i,False)==False:\n",
    "                self.ratings[label_i]=elo_lookup(label_i,event['gameorder'])\n",
    "            \n",
    "            # if the away team has not been seen by our loop yet\n",
    "            if self.ratings.get(label_j,False)==False:\n",
    "                self.ratings[label_j]=elo_lookup(label_j,event['gameorder'])\n",
    "                \n",
    "            # if the home team has not has their rating updated for a new season.\n",
    "            # Every season, every team's ratings revert to some degree back to the mean rating.\n",
    "            if self.curr_season[label_i]!=new_year:\n",
    "                self.curr_season[label_i]=new_year\n",
    "                self.ratings[label_i]=self.ratings[label_i]*.75+1505.*.25\n",
    "            elif self.curr_season[label_j]!=new_year:\n",
    "                self.curr_season[label_j]=new_year\n",
    "                self.ratings[label_j]=self.ratings[label_j]*.75+1505.*.25\n",
    "            \n",
    "            # Inserting the ELO ratings before the game\n",
    "            self.data.at[idx, 'elo_home_before'] = self.ratings[label_i];\n",
    "            self.data.at[idx, 'elo_away_before'] = self.ratings[label_j];\n",
    "            self.data.at[idx, 'new_forecast'] = elo_prediction(self.ratings[label_i], self.ratings[label_j])\n",
    "            update=self.update_function(event['pts'],event['opp_pts'], self.ratings[label_i], self.ratings[label_j])\n",
    "            # Inserting the ELO ratings after the game and we have updated the ratings\n",
    "            self.ratings[label_i]+=update[0]\n",
    "            self.ratings[label_j]+=update[1]\n",
    "            self.data.at[idx, 'elo_home_after'] = self.ratings[label_i];\n",
    "            self.data.at[idx, 'elo_away_after'] = self.ratings[label_j];"
   ]
  },
  {
   "cell_type": "code",
   "execution_count": 68,
   "id": "17611b79-42c2-4ddf-9862-34e335de6009",
   "metadata": {},
   "outputs": [],
   "source": [
    "# Creating the model\n",
    "m=HeadToHeadModel(list(EloData.iterrows()), EloData.copy(), silver_elo_update, elo_prediction)"
   ]
  },
  {
   "cell_type": "code",
   "execution_count": 69,
   "id": "08621af6-5c6c-4472-9e78-4e1e2ebe45f8",
   "metadata": {},
   "outputs": [],
   "source": [
    "# Training the Model! (Meaning calculating ELO ratings for each game in our database)\n",
    "m.train()"
   ]
  },
  {
   "cell_type": "code",
   "execution_count": 70,
   "id": "8db0b29a-6fcd-4648-82be-ba0631abddef",
   "metadata": {},
   "outputs": [],
   "source": [
    "# setting games equal to our new dataframe with our own elo ratings.\n",
    "EloData = m.data"
   ]
  },
  {
   "cell_type": "markdown",
   "id": "64d3fca2-49c9-4153-a02e-4c7722a299ec",
   "metadata": {},
   "source": [
    "<h4> Checking in on where we are </h4>\n",
    "We just ran a lot of code, and its fine if you didn't understand some of the technical parts of creating ELO. The important part is that now, we have successfully created our own ELO metric, and have it saved in our dataframe. Now it's time to see how well we did in replicating the ELO model and how its accuracy compares the originial."
   ]
  },
  {
   "cell_type": "markdown",
   "id": "12353e70-ef18-4ec2-a88f-043b94298716",
   "metadata": {},
   "source": [
    "Below I am creating a new column in my dataset called NewEloPrediction, which converts the forecast column, which is a probability, to a binary column with just W and L. (Works the same way as the originial EloPrediction column)"
   ]
  },
  {
   "cell_type": "code",
   "execution_count": 71,
   "id": "5b9a6420-1624-4c23-8e1d-5fdb5d32e20c",
   "metadata": {},
   "outputs": [],
   "source": [
    "def calculateNewEloPreds():\n",
    "    for index, row in EloData.iterrows():\n",
    "        pred = 'W' if row['new_forecast'] >= 0.5 else 'L';\n",
    "        correct = row[\"game_result\"] == pred;\n",
    "        EloData.at[index, 'NewEloPrediction'] = pred"
   ]
  },
  {
   "cell_type": "code",
   "execution_count": 72,
   "id": "bfa6cb2a-05c6-435a-a082-ade17c6f94d1",
   "metadata": {},
   "outputs": [
    {
     "name": "stdout",
     "output_type": "stream",
     "text": [
      "Accuracy of originial 538 ELO Model:68.1%\n"
     ]
    }
   ],
   "source": [
    "print(\"Accuracy of originial 538 ELO Model:\" + str(round(accuracy(EloData), 1)) + \"%\")"
   ]
  },
  {
   "cell_type": "code",
   "execution_count": 73,
   "id": "25c1d90a-0283-4aac-9d88-466a85976dd8",
   "metadata": {
    "scrolled": true
   },
   "outputs": [
    {
     "name": "stdout",
     "output_type": "stream",
     "text": [
      "Accuracy of our ELO Model:68.1%\n"
     ]
    }
   ],
   "source": [
    "calculateNewEloPreds()\n",
    "print(\"Accuracy of our ELO Model:\" + str(round(accuracy(EloData, \"NewEloPrediction\"),1)) + \"%\")"
   ]
  },
  {
   "cell_type": "code",
   "execution_count": 74,
   "id": "different-missouri",
   "metadata": {},
   "outputs": [
    {
     "data": {
      "text/plain": [
       "Index(['gameorder', 'game_id', 'lg_id', '_iscopy', 'year_id', 'date_game',\n",
       "       'seasongame', 'is_playoffs', 'team_id', 'fran_id', 'pts', 'elo_i',\n",
       "       'elo_n', 'win_equiv', 'opp_id', 'opp_fran', 'opp_pts', 'opp_elo_i',\n",
       "       'opp_elo_n', 'game_location', 'game_result', 'forecast', 'notes',\n",
       "       'EloPrediction', 'sectionOfSeason', 'pointSpread538Elo',\n",
       "       'actualPointSpread', 'SEASON', 'elo_home_before', 'elo_away_before',\n",
       "       'new_forecast', 'elo_home_after', 'elo_away_after', 'NewEloPrediction'],\n",
       "      dtype='object')"
      ]
     },
     "execution_count": 74,
     "metadata": {},
     "output_type": "execute_result"
    }
   ],
   "source": [
    "EloData.columns"
   ]
  },
  {
   "cell_type": "code",
   "execution_count": 75,
   "id": "40389990-1948-4e5f-8f35-b836f447f658",
   "metadata": {},
   "outputs": [
    {
     "data": {
      "text/plain": [
       "<matplotlib.collections.PathCollection at 0x7fb72f0edd60>"
      ]
     },
     "execution_count": 75,
     "metadata": {},
     "output_type": "execute_result"
    },
    {
     "data": {
      "image/png": "[encoded data removed]",
      "text/plain": [
       "<Figure size 432x288 with 1 Axes>"
      ]
     },
     "metadata": {
      "needs_background": "light"
     },
     "output_type": "display_data"
    }
   ],
   "source": [
    "fig, ax = plt.subplots();\n",
    "ax.set_title(\"Our ELO model vs. 538's ELO Model\")\n",
    "ax.set_xlabel(\"Our ELO model\");\n",
    "ax.set_ylabel(\"538's ELO Model\");\n",
    "ax.scatter(x=EloData[\"elo_home_before\"],y=EloData[\"elo_i\"])"
   ]
  },
  {
   "cell_type": "markdown",
   "id": "04313dea-103e-47a0-8bc9-ebd960cd1457",
   "metadata": {},
   "source": [
    "There does seem to some variation between our model and 538's, which is probably due to the fact that it was diificult to find the exact constants that they used in making their ELO, so we had to guess and use outside sources. But clearly, the two models are very similar. (They have the exact same accuracy to the first decimal place.) We decided that instead of spending hours on trying to figure out the exact constants that 538 uses and making our model replicate it exactly, we are happy with the similarity that we achieved and will instead move forward doing analysis with our ELO model."
   ]
  },
  {
   "cell_type": "code",
   "execution_count": 76,
   "id": "e69c6a28-9057-42bd-b82c-251844225d5a",
   "metadata": {},
   "outputs": [
    {
     "data": {
      "image/png": "[encoded data removed]",
      "text/plain": [
       "<Figure size 432x288 with 1 Axes>"
      ]
     },
     "metadata": {
      "needs_background": "light"
     },
     "output_type": "display_data"
    }
   ],
   "source": [
    "graphAccuracyAcrossRange(1950,2015, df=EloData, field=\"NewEloPrediction\", title=\"Accuracy Across Time for Our ELO Model\")"
   ]
  },
  {
   "cell_type": "code",
   "execution_count": 77,
   "id": "8d2b2c0b-4d5b-44bb-99f7-a8eb18f93e4f",
   "metadata": {},
   "outputs": [
    {
     "data": {
      "image/png": "[encoded data removed]",
      "text/plain": [
       "<Figure size 432x288 with 1 Axes>"
      ]
     },
     "metadata": {
      "needs_background": "light"
     },
     "output_type": "display_data"
    }
   ],
   "source": [
    "graphAccuracyAcrossRange(1950,2015, df=EloData, title=\"Accuracy Across Time for 538's ELO Model\")"
   ]
  },
  {
   "cell_type": "markdown",
   "id": "9a11cef4-bb35-4c92-9837-b01a1027eedb",
   "metadata": {},
   "source": [
    "Above we can see the accuracy across time of our ELO Model and 538's ELO Model. As we could expect, the overall trend of the data is the same, with some variation because our ELO isn't the exact same function as 538's."
   ]
  },
  {
   "cell_type": "code",
   "execution_count": 78,
   "id": "4e2fbd17-bfca-4eca-9ee5-c2afd0b3850a",
   "metadata": {},
   "outputs": [],
   "source": [
    "# EloData[-100:-50][[\"elo_home_before\", \"elo_i\",\"elo_away_before\", \"opp_elo_i\", \"NewEloPrediction\", \"EloPrediction\", \"homeCourtELO\", \"game_result\",\"forecast\",\"new_forecast\",\"pointSpread538Elo\",\"pointSpreadOurELO\",\"actualPointSpread\" ]]\n",
    "\n"
   ]
  },
  {
   "cell_type": "code",
   "execution_count": 79,
   "id": "c69b9eba-3d3c-4a83-9d76-93a37688abc9",
   "metadata": {},
   "outputs": [],
   "source": [
    "# EloData"
   ]
  },
  {
   "cell_type": "markdown",
   "id": "ee7c5bb9-4da9-403a-b00e-025fb847a240",
   "metadata": {},
   "source": [
    "<h3>Changing the ELO Model: Dynamic Home Court Advantage</h3>"
   ]
  },
  {
   "cell_type": "markdown",
   "id": "91a092ea-733a-42c3-af20-dd0bae2c679c",
   "metadata": {},
   "source": [
    "Now it is time to utilize the whole reason why we went through all the work of creating our own ELO metric: so we can mess with it. The orignial 538 ELO model assumes a constant advantage to the home team and always gives it 100 ELO points to account for that. However, has home court advntage stayed the same throughout history? Let's take a look."
   ]
  },
  {
   "cell_type": "code",
   "execution_count": 80,
   "id": "e3d8f11b-8dde-409c-87ae-9f15d561ab0b",
   "metadata": {},
   "outputs": [],
   "source": [
    "# Function that calculates the percentage of games that the home team has won over a dataset.\n",
    "def home_team_wins_percent(df=EloData):\n",
    "    return 100*len(df[df[\"game_result\"] == \"W\"])/len(df)"
   ]
  },
  {
   "cell_type": "code",
   "execution_count": 81,
   "id": "2f82d92f-6930-4b47-8eea-accb2b47326e",
   "metadata": {},
   "outputs": [],
   "source": [
    "# Function that calculates the percentage of games that the home team has won over a given year.\n",
    "def home_team_wins_percentForYear(year,df=EloData, field=\"EloPrediction\"):\n",
    "    return home_team_wins_percent(df[df[\"year_id\"]==year])"
   ]
  },
  {
   "cell_type": "code",
   "execution_count": 82,
   "id": "616ebb5e-fabd-4fb2-991b-05200b57be89",
   "metadata": {},
   "outputs": [],
   "source": [
    "def graphHomeCourtWinsAcrossRange(start, end, df=EloData):\n",
    "    years = [i for i in range(start,end)]\n",
    "    homeCourtAcrossYears = [home_team_wins_percentForYear(i,df) for i in range(start, end)]\n",
    "    fig, ax = plt.subplots();\n",
    "    ax.set_title(\"Percent of Games Home Team Wins Across Time\")\n",
    "    ax.set_xlabel(\"Time\");\n",
    "    ax.set_ylabel(\"% of games home team wins\");\n",
    "    ax.scatter(x=years,y=homeCourtAcrossYears)"
   ]
  },
  {
   "cell_type": "code",
   "execution_count": 83,
   "id": "2e5604eb-277a-475a-bbe4-47659c15e638",
   "metadata": {},
   "outputs": [
    {
     "data": {
      "image/png": "[encoded data removed]",
      "text/plain": [
       "<Figure size 432x288 with 1 Axes>"
      ]
     },
     "metadata": {
      "needs_background": "light"
     },
     "output_type": "display_data"
    }
   ],
   "source": [
    "graphHomeCourtWinsAcrossRange(1948, 2014, df=EloData)"
   ]
  },
  {
   "cell_type": "markdown",
   "id": "3b161ca7-de25-432e-af33-a694373b4146",
   "metadata": {},
   "source": [
    "It seems from this plot that home court advantage it definetely not constant over the years. It goes up and down with no obvious pattern. To account for this, We will change our ELO model to have a dynamic home-court advantage, instead of being the constant 100 ELO points. The way we implement the dynamic nature will be through calculating a running percent of the last 1300 games where the home team won. Then, we will view that percentage as a probability and translate that probablility to ELO points using the inverse of the function that gives us a probablility from an ELO difference. Note: For the first 1300 games played, we will used a constant ELO of 85 because there hasn't been enough games to calculate any useful information."
   ]
  },
  {
   "cell_type": "code",
   "execution_count": 84,
   "id": "301515ca-ca87-47a1-b9f3-464b94e9f3a8",
   "metadata": {},
   "outputs": [],
   "source": [
    "def calculateRunningPercentHomeTeamWins(df):\n",
    "    startWindowIndex = 1;\n",
    "    runningHomeTeamWinCount = 0;\n",
    "    \n",
    "    for index, row in df.iterrows():\n",
    "        if row[\"gameorder\"]-startWindowIndex < 1300:\n",
    "            runningHomeTeamWinCount = 1+runningHomeTeamWinCount if row[\"game_result\"]==\"W\" else runningHomeTeamWinCount;\n",
    "            df.at[index, 'homeTeamWinPer'] = runningHomeTeamWinCount / (row[\"gameorder\"]+1 - startWindowIndex);\n",
    "        else:\n",
    "            runningHomeTeamWinCount = runningHomeTeamWinCount - 1 if df.iloc[startWindowIndex][\"game_result\"]==\"W\" else runningHomeTeamWinCount;\n",
    "            runningHomeTeamWinCount = 1 + runningHomeTeamWinCount if row[\"game_result\"]==\"W\" else runningHomeTeamWinCount;\n",
    "            startWindowIndex+=1;\n",
    "            df.at[index, 'homeTeamWinPer'] = runningHomeTeamWinCount / (row[\"gameorder\"] + 1 - startWindowIndex);"
   ]
  },
  {
   "cell_type": "code",
   "execution_count": 85,
   "id": "607263fb-fa17-4165-86ea-cc92aa8a78ab",
   "metadata": {},
   "outputs": [],
   "source": [
    "calculateRunningPercentHomeTeamWins(EloData)"
   ]
  },
  {
   "cell_type": "code",
   "execution_count": 86,
   "id": "3428222b-509b-4e51-a07a-c57abbb4b837",
   "metadata": {},
   "outputs": [
    {
     "data": {
      "text/plain": [
       "<matplotlib.collections.PathCollection at 0x7fb72f29eca0>"
      ]
     },
     "execution_count": 86,
     "metadata": {},
     "output_type": "execute_result"
    },
    {
     "data": {
      "image/png": "[encoded data removed]",
      "text/plain": [
       "<Figure size 432x288 with 1 Axes>"
      ]
     },
     "metadata": {
      "needs_background": "light"
     },
     "output_type": "display_data"
    }
   ],
   "source": [
    "fig, ax = plt.subplots();\n",
    "ax.set_title(\"Running Percent that the Home Team Won Over Time\")\n",
    "ax.set_xlabel(\"Time\");\n",
    "ax.set_ylabel(\"Percent of last 1300 games Home Team Won\");\n",
    "ax.scatter(x=EloData[1300:][\"gameorder\"],y=EloData[1300:][\"homeTeamWinPer\"])"
   ]
  },
  {
   "cell_type": "markdown",
   "id": "4e4577f3-e0cc-477f-9041-027aa93d4d3c",
   "metadata": {},
   "source": [
    "Now I use the running average to calculate the home court advantage in terms of ELO points:"
   ]
  },
  {
   "cell_type": "code",
   "execution_count": 87,
   "id": "ae784fc8-a3ec-4be6-ad24-f5e0b7d27bda",
   "metadata": {},
   "outputs": [],
   "source": [
    "def calculateELOfromRunningAverage(df):\n",
    "    for index, row in df.iterrows():\n",
    "        if row[\"gameorder\"] < 1300:\n",
    "            df.at[index, 'homeCourtELO'] = 85;\n",
    "        else:\n",
    "            homeCourtElo = -1*(400 * (math.log10( (1 / row[\"homeTeamWinPer\"]) - 1 )))\n",
    "            df.at[index, 'homeCourtELO'] = homeCourtElo;"
   ]
  },
  {
   "cell_type": "code",
   "execution_count": 88,
   "id": "abd41f0d-545d-41e4-99ef-efa6f48f8151",
   "metadata": {},
   "outputs": [],
   "source": [
    "calculateELOfromRunningAverage(EloData)"
   ]
  },
  {
   "cell_type": "code",
   "execution_count": 89,
   "id": "59a69e81-137a-42d3-91d6-a68e91aeff55",
   "metadata": {},
   "outputs": [
    {
     "data": {
      "text/plain": [
       "<matplotlib.collections.PathCollection at 0x7fb72e2fb250>"
      ]
     },
     "execution_count": 89,
     "metadata": {},
     "output_type": "execute_result"
    },
    {
     "data": {
      "image/png": "[encoded data removed]",
      "text/plain": [
       "<Figure size 432x288 with 1 Axes>"
      ]
     },
     "metadata": {
      "needs_background": "light"
     },
     "output_type": "display_data"
    }
   ],
   "source": [
    "fig, ax = plt.subplots();\n",
    "ax.set_title(\"ELO Points added to Home Team Over Time\")\n",
    "ax.set_xlabel(\"Time\");\n",
    "ax.set_ylabel(\"ELO Points added to Home Team\");\n",
    "ax.scatter(x=EloData[\"gameorder\"],y=EloData[\"homeCourtELO\"])"
   ]
  },
  {
   "cell_type": "markdown",
   "id": "6299a7be-4811-43c4-9d53-216b2e64813e",
   "metadata": {},
   "source": [
    "Rewriting our model to account for this change:"
   ]
  },
  {
   "cell_type": "code",
   "execution_count": 90,
   "id": "9dea06b6-0283-4fde-a508-ac79f57199d5",
   "metadata": {},
   "outputs": [],
   "source": [
    "class HeadToHeadModel(object):\n",
    "    def __init__(self, events,data, update_function, prediction_function=None):\n",
    "        self.update_function=update_function\n",
    "        self.events=events\n",
    "        self.data=data\n",
    "        self.ratings={}\n",
    "        self.prediction_function = prediction_function\n",
    "        self.predictions = []\n",
    "        self.curr_season=defaultdict(lambda: EloData.iloc[0][\"year_id\"])\n",
    "\n",
    "# This function loops through all the games in the dataframe and updates the ELO ratings after each game.\n",
    "    def train(self):\n",
    "        for idx, event in self.data.iterrows():\n",
    "            new_year=event['year_id']\n",
    "            label_i=event['fran_id']\n",
    "            label_j=event['opp_fran']\n",
    "            \n",
    "            # if the home team has not been seen by our loop yet\n",
    "            if self.ratings.get(label_i,False)==False:\n",
    "                self.ratings[label_i]=elo_lookup(label_i,event['gameorder'])\n",
    "            \n",
    "            # if the away team has not been seen by our loop yet\n",
    "            if self.ratings.get(label_j,False)==False:\n",
    "                self.ratings[label_j]=elo_lookup(label_j,event['gameorder'])\n",
    "                \n",
    "            # if the home team has not has their rating updated for a new season.\n",
    "            # Every season, every team's ratings revert to some degree back to the mean rating.\n",
    "            if self.curr_season[label_i]!=new_year:\n",
    "                self.curr_season[label_i]=new_year\n",
    "                self.ratings[label_i]=self.ratings[label_i]*.75+1505.*.25\n",
    "            elif self.curr_season[label_j]!=new_year:\n",
    "                self.curr_season[label_j]=new_year\n",
    "                self.ratings[label_j]=self.ratings[label_j]*.75+1505.*.25\n",
    "            \n",
    "            # Inserting the ELO ratings before the game\n",
    "            self.data.at[idx, 'elo_home_before'] = self.ratings[label_i];\n",
    "            self.data.at[idx, 'elo_away_before'] = self.ratings[label_j];\n",
    "            self.data.at[idx, 'new_forecast'] = elo_prediction(self.ratings[label_i], self.ratings[label_j], event[\"homeCourtELO\"])\n",
    "            update=self.update_function(event['pts'],event['opp_pts'], self.ratings[label_i], self.ratings[label_j], event[\"homeCourtELO\"])\n",
    "            # Inserting the ELO ratings after the game and we have updated the ratings\n",
    "            self.ratings[label_i]+=update[0]\n",
    "            self.ratings[label_j]+=update[1]\n",
    "            self.data.at[idx, 'elo_home_after'] = self.ratings[label_i];\n",
    "            self.data.at[idx, 'elo_away_after'] = self.ratings[label_j];"
   ]
  },
  {
   "cell_type": "code",
   "execution_count": 91,
   "id": "dbead79f-ba80-43a3-b3cf-37569e76696f",
   "metadata": {},
   "outputs": [],
   "source": [
    "# Creating the model\n",
    "m=HeadToHeadModel(list(EloData.iterrows()), EloData.copy(), silver_elo_update, elo_prediction)"
   ]
  },
  {
   "cell_type": "code",
   "execution_count": 92,
   "id": "174d97fd-2b73-437d-9212-32aef72e991b",
   "metadata": {},
   "outputs": [],
   "source": [
    "# Retraining the model! (Meaning calculating ELO ratings for each game in our database with our new ELO model)\n",
    "m.train()"
   ]
  },
  {
   "cell_type": "code",
   "execution_count": 93,
   "id": "e0eac8ee-63e3-43b6-866d-e8d8dfb653d5",
   "metadata": {},
   "outputs": [],
   "source": [
    "EloData = m.data"
   ]
  },
  {
   "cell_type": "code",
   "execution_count": 94,
   "id": "00f736d9-d826-42d1-8aee-f60bb791f47e",
   "metadata": {},
   "outputs": [],
   "source": [
    "# Recalculating our ELO predictions\n",
    "calculateNewEloPreds()"
   ]
  },
  {
   "cell_type": "markdown",
   "id": "b1b5114d-9604-4bea-b9e4-a2d393d7469e",
   "metadata": {},
   "source": [
    "So now that we have gone through all this work and recalculated ELO using dynamic home court advantage, let's see if it actually improved anything:"
   ]
  },
  {
   "cell_type": "code",
   "execution_count": 95,
   "id": "6f063397-df62-4c2c-b12d-eba2c11379cc",
   "metadata": {},
   "outputs": [
    {
     "name": "stdout",
     "output_type": "stream",
     "text": [
      "Accuracy of our new ELO model:68.3%\n"
     ]
    }
   ],
   "source": [
    "print(\"Accuracy of our new ELO model:\" + str(round_1(accuracy(EloData[EloData[\"year_id\"]>197], \"NewEloPrediction\"))) + \"%\")"
   ]
  },
  {
   "cell_type": "code",
   "execution_count": 96,
   "id": "b9d94490-d06b-4364-8fc6-6f977686e96b",
   "metadata": {},
   "outputs": [
    {
     "name": "stdout",
     "output_type": "stream",
     "text": [
      "Accuracy of the 538 ELO model:68.2%\n"
     ]
    }
   ],
   "source": [
    "print(\"Accuracy of the 538 ELO model:\" + str(round_1(accuracy(EloData[EloData[\"year_id\"]>1965], \"EloPrediction\"))) + \"%\")"
   ]
  },
  {
   "cell_type": "markdown",
   "id": "40a64e13-5b4b-41b5-a128-717d8563d78e",
   "metadata": {},
   "source": [
    "Our model improved!! Albeit only by 0.2%. Let's run a t-test on the accuracy of our new model and old model across the years to see if this change is statistically significant:"
   ]
  },
  {
   "cell_type": "code",
   "execution_count": 97,
   "id": "a43f7a7d-4e68-41e0-a2be-6f00f96db87d",
   "metadata": {},
   "outputs": [
    {
     "data": {
      "text/plain": [
       "69.35975609756098"
      ]
     },
     "execution_count": 97,
     "metadata": {},
     "output_type": "execute_result"
    }
   ],
   "source": [
    "accuracyForYear(2010, df=EloData, field=\"NewEloPrediction\")"
   ]
  },
  {
   "cell_type": "code",
   "execution_count": 98,
   "id": "11ddefbd-ba2e-493c-af2a-9c37fe2b952e",
   "metadata": {},
   "outputs": [],
   "source": [
    "accNewModel = [accuracyForYear(i, df=EloData, field=\"NewEloPrediction\") for i in range(1970, 2014)]\n",
    "acc538Model = [accuracyForYear(i, df=EloData, field=\"EloPrediction\") for i in range(1970, 2014)]"
   ]
  },
  {
   "cell_type": "code",
   "execution_count": 99,
   "id": "23b125f4-bbcb-412a-a0af-7d7a26dacd7b",
   "metadata": {},
   "outputs": [
    {
     "name": "stdout",
     "output_type": "stream",
     "text": [
      "Ttest_relResult(statistic=1.9300278984586543, pvalue=0.060216692072778896)\n"
     ]
    }
   ],
   "source": [
    "print(st.ttest_rel(accNewModel, acc538Model))"
   ]
  },
  {
   "cell_type": "markdown",
   "id": "formal-burning",
   "metadata": {},
   "source": [
    "<h3>Final Step: Combining the ELO Model and The Earlier Ones</h3><br>\n",
    "Now that we have seen that ELO is an effective tool to predict the outcome of NBA games, we will add this to our classification and regression models we created in the first step to see if we achieve more accurate predictions. We can accomplish this by merging the elo_home_before, elo_away_before, and homeCourtELO columns into our gameData dataframe by using the game_id we took from the ELO dataset in the first step of the project. "
   ]
  },
  {
   "cell_type": "code",
   "execution_count": 100,
   "id": "surprising-construction",
   "metadata": {},
   "outputs": [
    {
     "data": {
      "text/html": [
       "<div>\n",
       "<style scoped>\n",
       "    .dataframe tbody tr th:only-of-type {\n",
       "        vertical-align: middle;\n",
       "    }\n",
       "\n",
       "    .dataframe tbody tr th {\n",
       "        vertical-align: top;\n",
       "    }\n",
       "\n",
       "    .dataframe thead th {\n",
       "        text-align: right;\n",
       "    }\n",
       "</style>\n",
       "<table border=\"1\" class=\"dataframe\">\n",
       "  <thead>\n",
       "    <tr style=\"text-align: right;\">\n",
       "      <th></th>\n",
       "      <th>GAME_ID</th>\n",
       "      <th>G_home</th>\n",
       "      <th>W_PCT_home</th>\n",
       "      <th>HOME_RECORD_home</th>\n",
       "      <th>ROAD_RECORD_home</th>\n",
       "      <th>W_PCT_prev_home</th>\n",
       "      <th>HOME_RECORD_prev_home</th>\n",
       "      <th>ROAD_RECORD_prev_home</th>\n",
       "      <th>G_away</th>\n",
       "      <th>W_PCT_away</th>\n",
       "      <th>...</th>\n",
       "      <th>TEAM_ID_home</th>\n",
       "      <th>TEAM_ID_away</th>\n",
       "      <th>NICKNAME_home</th>\n",
       "      <th>game_id</th>\n",
       "      <th>date_game</th>\n",
       "      <th>fran_id</th>\n",
       "      <th>year_id</th>\n",
       "      <th>elo_home_before</th>\n",
       "      <th>elo_away_before</th>\n",
       "      <th>homeCourtELO</th>\n",
       "    </tr>\n",
       "  </thead>\n",
       "  <tbody>\n",
       "    <tr>\n",
       "      <th>2902</th>\n",
       "      <td>20900444</td>\n",
       "      <td>29</td>\n",
       "      <td>0.414</td>\n",
       "      <td>0.466667</td>\n",
       "      <td>0.357143</td>\n",
       "      <td>0.232</td>\n",
       "      <td>0.268293</td>\n",
       "      <td>0.195122</td>\n",
       "      <td>28</td>\n",
       "      <td>0.821</td>\n",
       "      <td>...</td>\n",
       "      <td>1610612746</td>\n",
       "      <td>1610612738</td>\n",
       "      <td>Clippers</td>\n",
       "      <td>200912270LAC</td>\n",
       "      <td>2009-12-27</td>\n",
       "      <td>Clippers</td>\n",
       "      <td>2010.0</td>\n",
       "      <td>1365.310277</td>\n",
       "      <td>1709.297009</td>\n",
       "      <td>87.884798</td>\n",
       "    </tr>\n",
       "    <tr>\n",
       "      <th>7001</th>\n",
       "      <td>21201095</td>\n",
       "      <td>72</td>\n",
       "      <td>0.361</td>\n",
       "      <td>0.527778</td>\n",
       "      <td>0.194444</td>\n",
       "      <td>0.303</td>\n",
       "      <td>0.333333</td>\n",
       "      <td>0.272727</td>\n",
       "      <td>72</td>\n",
       "      <td>0.375</td>\n",
       "      <td>...</td>\n",
       "      <td>1610612764</td>\n",
       "      <td>1610612761</td>\n",
       "      <td>Wizards</td>\n",
       "      <td>201303310WAS</td>\n",
       "      <td>2013-03-31</td>\n",
       "      <td>Wizards</td>\n",
       "      <td>2013.0</td>\n",
       "      <td>1458.379919</td>\n",
       "      <td>1424.683156</td>\n",
       "      <td>81.083621</td>\n",
       "    </tr>\n",
       "    <tr>\n",
       "      <th>8716</th>\n",
       "      <td>21400351</td>\n",
       "      <td>22</td>\n",
       "      <td>0.227</td>\n",
       "      <td>0.250000</td>\n",
       "      <td>0.200000</td>\n",
       "      <td>0.488</td>\n",
       "      <td>0.585366</td>\n",
       "      <td>0.390244</td>\n",
       "      <td>23</td>\n",
       "      <td>0.304</td>\n",
       "      <td>...</td>\n",
       "      <td>1610612750</td>\n",
       "      <td>1610612747</td>\n",
       "      <td>Timberwolves</td>\n",
       "      <td>201412140MIN</td>\n",
       "      <td>2014-12-14</td>\n",
       "      <td>Timberwolves</td>\n",
       "      <td>2015.0</td>\n",
       "      <td>1392.966045</td>\n",
       "      <td>1400.376881</td>\n",
       "      <td>46.783637</td>\n",
       "    </tr>\n",
       "    <tr>\n",
       "      <th>4247</th>\n",
       "      <td>21000559</td>\n",
       "      <td>38</td>\n",
       "      <td>0.526</td>\n",
       "      <td>0.750000</td>\n",
       "      <td>0.363636</td>\n",
       "      <td>0.610</td>\n",
       "      <td>0.634146</td>\n",
       "      <td>0.585366</td>\n",
       "      <td>36</td>\n",
       "      <td>0.583</td>\n",
       "      <td>...</td>\n",
       "      <td>1610612757</td>\n",
       "      <td>1610612752</td>\n",
       "      <td>Trailblazers</td>\n",
       "      <td>201101110POR</td>\n",
       "      <td>2011-01-11</td>\n",
       "      <td>Trailblazers</td>\n",
       "      <td>2011.0</td>\n",
       "      <td>1556.868643</td>\n",
       "      <td>1529.435075</td>\n",
       "      <td>66.547551</td>\n",
       "    </tr>\n",
       "    <tr>\n",
       "      <th>2101</th>\n",
       "      <td>20800873</td>\n",
       "      <td>56</td>\n",
       "      <td>0.696</td>\n",
       "      <td>0.740741</td>\n",
       "      <td>0.655172</td>\n",
       "      <td>0.683</td>\n",
       "      <td>0.829268</td>\n",
       "      <td>0.536585</td>\n",
       "      <td>56</td>\n",
       "      <td>0.786</td>\n",
       "      <td>...</td>\n",
       "      <td>1610612759</td>\n",
       "      <td>1610612739</td>\n",
       "      <td>Spurs</td>\n",
       "      <td>200902270SAS</td>\n",
       "      <td>2009-02-27</td>\n",
       "      <td>Spurs</td>\n",
       "      <td>2009.0</td>\n",
       "      <td>1676.275045</td>\n",
       "      <td>1694.341618</td>\n",
       "      <td>82.212788</td>\n",
       "    </tr>\n",
       "  </tbody>\n",
       "</table>\n",
       "<p>5 rows × 57 columns</p>\n",
       "</div>"
      ],
      "text/plain": [
       "       GAME_ID  G_home  W_PCT_home  HOME_RECORD_home  ROAD_RECORD_home  \\\n",
       "2902  20900444      29       0.414          0.466667          0.357143   \n",
       "7001  21201095      72       0.361          0.527778          0.194444   \n",
       "8716  21400351      22       0.227          0.250000          0.200000   \n",
       "4247  21000559      38       0.526          0.750000          0.363636   \n",
       "2101  20800873      56       0.696          0.740741          0.655172   \n",
       "\n",
       "      W_PCT_prev_home  HOME_RECORD_prev_home  ROAD_RECORD_prev_home  G_away  \\\n",
       "2902            0.232               0.268293               0.195122      28   \n",
       "7001            0.303               0.333333               0.272727      72   \n",
       "8716            0.488               0.585366               0.390244      23   \n",
       "4247            0.610               0.634146               0.585366      36   \n",
       "2101            0.683               0.829268               0.536585      56   \n",
       "\n",
       "      W_PCT_away  ...  TEAM_ID_home  TEAM_ID_away  NICKNAME_home  \\\n",
       "2902       0.821  ...    1610612746    1610612738       Clippers   \n",
       "7001       0.375  ...    1610612764    1610612761        Wizards   \n",
       "8716       0.304  ...    1610612750    1610612747   Timberwolves   \n",
       "4247       0.583  ...    1610612757    1610612752   Trailblazers   \n",
       "2101       0.786  ...    1610612759    1610612739          Spurs   \n",
       "\n",
       "           game_id  date_game       fran_id  year_id  elo_home_before  \\\n",
       "2902  200912270LAC 2009-12-27      Clippers   2010.0      1365.310277   \n",
       "7001  201303310WAS 2013-03-31       Wizards   2013.0      1458.379919   \n",
       "8716  201412140MIN 2014-12-14  Timberwolves   2015.0      1392.966045   \n",
       "4247  201101110POR 2011-01-11  Trailblazers   2011.0      1556.868643   \n",
       "2101  200902270SAS 2009-02-27         Spurs   2009.0      1676.275045   \n",
       "\n",
       "      elo_away_before  homeCourtELO  \n",
       "2902      1709.297009     87.884798  \n",
       "7001      1424.683156     81.083621  \n",
       "8716      1400.376881     46.783637  \n",
       "4247      1529.435075     66.547551  \n",
       "2101      1694.341618     82.212788  \n",
       "\n",
       "[5 rows x 57 columns]"
      ]
     },
     "execution_count": 100,
     "metadata": {},
     "output_type": "execute_result"
    }
   ],
   "source": [
    "# merging the ELO collumns from EloData onto the gameData using game_id\n",
    "gameData = gameData.merge(EloData[['game_id', 'elo_home_before', 'elo_away_before']],\n",
    "                          how='left', on='game_id')\n",
    "gameData.sample(5)"
   ]
  },
  {
   "cell_type": "code",
   "execution_count": 101,
   "id": "metric-translation",
   "metadata": {},
   "outputs": [],
   "source": [
    "# adding the three elo attributes to the feature columns we had initially\n",
    "winner_feat_cols = winner_feat_cols + ['elo_home_before', 'elo_away_before']\n",
    "diff_feat_cols = diff_feat_cols + ['elo_home_before', 'elo_away_before']"
   ]
  },
  {
   "cell_type": "code",
   "execution_count": 104,
   "id": "threatened-college",
   "metadata": {},
   "outputs": [
    {
     "name": "stdout",
     "output_type": "stream",
     "text": [
      "Results for predicting the correct winner:\n",
      "\n",
      "Decision Tree Results: \n",
      "Accuracy: 58%\n",
      "Precision: 65%\n",
      "Recall: 64%\n",
      "\n",
      "K-Nearest Neighbors Classifier Results: \n",
      "Accuracy: 63%\n",
      "Precision: 68%\n",
      "Recall: 72%\n",
      "\n",
      "Random Forest Classifier Results: \n",
      "Accuracy: 66%\n",
      "Precision: 69%\n",
      "Recall: 76%\n"
     ]
    }
   ],
   "source": [
    "print('Results for predicting the correct winner:\\n')\n",
    "print('Decision Tree Results: ')\n",
    "classifier(gameData, winner_feat_cols, home_team_wins, DecisionTreeClassifier())\n",
    "print('\\nK-Nearest Neighbors Classifier Results: ')\n",
    "classifier(gameData, winner_feat_cols, home_team_wins, KNeighborsClassifier())\n",
    "print('\\nRandom Forest Classifier Results: ')\n",
    "classifier(gameData, winner_feat_cols, home_team_wins, RandomForestClassifier())"
   ]
  },
  {
   "cell_type": "code",
   "execution_count": 105,
   "id": "dental-popularity",
   "metadata": {},
   "outputs": [
    {
     "data": {
      "image/png": "[encoded data removed]",
      "text/plain": [
       "<Figure size 432x288 with 1 Axes>"
      ]
     },
     "metadata": {
      "needs_background": "light"
     },
     "output_type": "display_data"
    },
    {
     "name": "stdout",
     "output_type": "stream",
     "text": [
      "Average Mean Square Error: 172\n",
      "Percentage of Predictions Within 1 Point: 5%\n",
      "Percentage of Predictions Within 5 Points: 30%\n",
      "Percentage of Predictions Within 10 Points: 56%\n",
      "Percentage of Predictions Within 20 Points: 87%\n"
     ]
    }
   ],
   "source": [
    "score_diff_model = KNeighborsRegressor()\n",
    "regressor(gameData, diff_feat_cols, score_diff, score_diff_model)"
   ]
  },
  {
   "cell_type": "code",
   "execution_count": null,
   "id": "charming-memory",
   "metadata": {},
   "outputs": [],
   "source": []
  }
 ],
 "metadata": {
  "kernelspec": {
   "display_name": "Python 3",
   "language": "python",
   "name": "python3"
  },
  "language_info": {
   "codemirror_mode": {
    "name": "ipython",
    "version": 3
   },
   "file_extension": ".py",
   "mimetype": "text/x-python",
   "name": "python",
   "nbconvert_exporter": "python",
   "pygments_lexer": "ipython3",
   "version": "3.8.6"
  }
 },
 "nbformat": 4,
 "nbformat_minor": 5
}
